{
 "cells": [
  {
   "cell_type": "markdown",
   "id": "ab81841a-fc35-4e62-8234-4244699f4d51",
   "metadata": {},
   "source": [
    "# Group and Pivot"
   ]
  },
  {
   "cell_type": "code",
   "execution_count": 1,
   "id": "5d8db596-e157-4d73-b337-025b84c2f5b4",
   "metadata": {},
   "outputs": [],
   "source": [
    "from datetime import datetime\n",
    "from datascience import *\n",
    "import pandas as pd\n",
    "import matplotlib.pyplot as plt\n",
    "%matplotlib inline"
   ]
  },
  {
   "cell_type": "markdown",
   "id": "7888078f-6138-4edf-a0a9-70864f14ba58",
   "metadata": {},
   "source": [
    "### From Last Time"
   ]
  },
  {
   "cell_type": "code",
   "execution_count": 4,
   "id": "d00a662e-9168-480a-a154-080e560c6a29",
   "metadata": {},
   "outputs": [],
   "source": [
    "def datetime_parser(string):\n",
    "    datetime_object = datetime.strptime(string, '%m/%d/%y')\n",
    "    return datetime_object"
   ]
  },
  {
   "cell_type": "code",
   "execution_count": 5,
   "id": "395f1a56-d2a1-4c3b-8693-60e6e6b890f5",
   "metadata": {},
   "outputs": [
    {
     "data": {
      "text/html": [
       "<table border=\"1\" class=\"dataframe\">\n",
       "    <thead>\n",
       "        <tr>\n",
       "            <th>Unnamed: 0</th> <th>Admin2</th> <th>Province_State</th> <th>Date</th> <th>Confirmed</th> <th>Deaths</th> <th>New Date</th>\n",
       "        </tr>\n",
       "    </thead>\n",
       "    <tbody>\n",
       "        <tr>\n",
       "            <td>268       </td> <td>Alameda</td> <td>California    </td> <td>1/22/20</td> <td>0        </td> <td>0     </td> <td>2020-01-22 00:00:00</td>\n",
       "        </tr>\n",
       "        <tr>\n",
       "            <td>3608      </td> <td>Alameda</td> <td>California    </td> <td>1/23/20</td> <td>0        </td> <td>0     </td> <td>2020-01-23 00:00:00</td>\n",
       "        </tr>\n",
       "        <tr>\n",
       "            <td>6948      </td> <td>Alameda</td> <td>California    </td> <td>1/24/20</td> <td>0        </td> <td>0     </td> <td>2020-01-24 00:00:00</td>\n",
       "        </tr>\n",
       "        <tr>\n",
       "            <td>10288     </td> <td>Alameda</td> <td>California    </td> <td>1/25/20</td> <td>0        </td> <td>0     </td> <td>2020-01-25 00:00:00</td>\n",
       "        </tr>\n",
       "        <tr>\n",
       "            <td>13628     </td> <td>Alameda</td> <td>California    </td> <td>1/26/20</td> <td>0        </td> <td>0     </td> <td>2020-01-26 00:00:00</td>\n",
       "        </tr>\n",
       "    </tbody>\n",
       "</table>\n",
       "<p>... (70 rows omitted)</p>"
      ],
      "text/plain": [
       "<IPython.core.display.HTML object>"
      ]
     },
     "metadata": {},
     "output_type": "display_data"
    }
   ],
   "source": [
    "covid_us = Table().read_table(\"../covid_data/covid_us.txt\")\n",
    "covid_us = covid_us.with_column(\"New Date\", covid_us.apply(datetime_parser, \"Date\"))\n",
    "covid_us = covid_us.drop('Country_Region','UID','iso2','iso3','code3','FIPS', 'Lat', 'Long_', 'Combined_Key')\n",
    "\n",
    "covid_california = covid_us.where('Province_State', are.equal_to('California'))\n",
    "covid_alameda_county = covid_us.where('Admin2', are.equal_to('Alameda'))\n",
    "covid_alameda_county.show(5)"
   ]
  },
  {
   "cell_type": "markdown",
   "id": "b1789b10-1a60-4d74-82c6-d2b8c9525970",
   "metadata": {},
   "source": [
    "#### Group By (All about aggregation)\n",
    "\n",
    "Find for each date the total number of Deaths and Confirmed Cases in Alameda County. Each row for each day is unique so technically .group is not neccessary, but lets pretend that there are multiple rows with the same day and thus we need to use .group to get the aggregated results."
   ]
  },
  {
   "cell_type": "code",
   "execution_count": 6,
   "id": "78acdaea-b1a7-47cc-924a-f937f10c7a49",
   "metadata": {},
   "outputs": [
    {
     "data": {
      "text/html": [
       "<table border=\"1\" class=\"dataframe\">\n",
       "    <thead>\n",
       "        <tr>\n",
       "            <th>New Date</th> <th>Confirmed sum</th> <th>Deaths sum</th>\n",
       "        </tr>\n",
       "    </thead>\n",
       "    <tbody>\n",
       "        <tr>\n",
       "            <td>2020-01-22 00:00:00</td> <td>0            </td> <td>0         </td>\n",
       "        </tr>\n",
       "        <tr>\n",
       "            <td>2020-01-23 00:00:00</td> <td>0            </td> <td>0         </td>\n",
       "        </tr>\n",
       "        <tr>\n",
       "            <td>2020-01-24 00:00:00</td> <td>0            </td> <td>0         </td>\n",
       "        </tr>\n",
       "        <tr>\n",
       "            <td>2020-01-25 00:00:00</td> <td>0            </td> <td>0         </td>\n",
       "        </tr>\n",
       "        <tr>\n",
       "            <td>2020-01-26 00:00:00</td> <td>0            </td> <td>0         </td>\n",
       "        </tr>\n",
       "    </tbody>\n",
       "</table>\n",
       "<p>... (70 rows omitted)</p>"
      ],
      "text/plain": [
       "<IPython.core.display.HTML object>"
      ]
     },
     "metadata": {},
     "output_type": "display_data"
    }
   ],
   "source": [
    "grouped_covid_ac = covid_alameda_county.select('New Date', 'Confirmed', 'Deaths').group('New Date', sum)\n",
    "grouped_covid_ac.show(5)"
   ]
  },
  {
   "cell_type": "markdown",
   "id": "84b4d2a8-cbea-41d5-a256-0387f1fcc889",
   "metadata": {},
   "source": [
    "Cannot see much from this data so what is a good way to visualize this data to gather insights"
   ]
  },
  {
   "cell_type": "code",
   "execution_count": 7,
   "id": "9129f7e6-5a42-435a-baab-2488f539da76",
   "metadata": {},
   "outputs": [
    {
     "data": {
      "image/png": "[encoded data removed]",
      "text/plain": [
       "<Figure size 432x432 with 1 Axes>"
      ]
     },
     "metadata": {
      "needs_background": "light"
     },
     "output_type": "display_data"
    }
   ],
   "source": [
    "sorted_covid_ac = grouped_covid_ac.sort(\"New Date\", descending=False)\n",
    "\n",
    "#### Sorting is acting weird with original Date column use New Date\n",
    "# sorted_covid_ac['New Date']\n",
    "\n",
    "######### CONFIRMED CASES THROUGH TIME ##############\n",
    "sorted_covid_ac.plot(\"New Date\", \"Confirmed sum\")\n"
   ]
  },
  {
   "cell_type": "markdown",
   "id": "1b3d4ec6-b395-4667-b501-4d6c35e67107",
   "metadata": {},
   "source": [
    "Why was there such a big gap with no cases? If there were covid cases earlier than March 22, 2020 why were they not recorded? "
   ]
  },
  {
   "cell_type": "code",
   "execution_count": 8,
   "id": "c8748833-9d8d-4c99-bcf4-ed9ff9ec1492",
   "metadata": {},
   "outputs": [
    {
     "data": {
      "image/png": "[encoded data removed]",
      "text/plain": [
       "<Figure size 432x288 with 1 Axes>"
      ]
     },
     "metadata": {
      "needs_background": "light"
     },
     "output_type": "display_data"
    }
   ],
   "source": [
    "plt.plot(sorted_covid_ac['New Date'], sorted_covid_ac['Deaths sum']);\n",
    "plt.xticks([datetime(2020, 1, 22, 0, 0), datetime(2020, 2, 22, 0, 0),datetime(2020, 3, 22, 0, 0), datetime(2020, 4, 1, 0, 0)], rotation=45);"
   ]
  },
  {
   "cell_type": "code",
   "execution_count": 9,
   "id": "26b64ba9-4d92-4bce-82d2-a3e2b9fe7795",
   "metadata": {},
   "outputs": [
    {
     "data": {
      "image/png": "[encoded data removed]",
      "text/plain": [
       "<Figure size 432x288 with 1 Axes>"
      ]
     },
     "metadata": {
      "needs_background": "light"
     },
     "output_type": "display_data"
    }
   ],
   "source": [
    "plt.plot(sorted_covid_ac['New Date'], sorted_covid_ac['Confirmed sum']);\n",
    "plt.xticks([datetime(2020, 1, 22, 0, 0), datetime(2020, 2, 22, 0, 0),datetime(2020, 3, 22, 0, 0), datetime(2020, 4, 1, 0, 0)], rotation=45);"
   ]
  },
  {
   "cell_type": "markdown",
   "id": "1cd6ba74-d515-4019-a685-28bdc1b70d6a",
   "metadata": {},
   "source": [
    "### Pivots"
   ]
  },
  {
   "cell_type": "code",
   "execution_count": null,
   "id": "04b93a4a-06b5-43af-8761-e8923df2a095",
   "metadata": {},
   "outputs": [],
   "source": []
  }
 ],
 "metadata": {
  "kernelspec": {
   "display_name": "Python 3 (ipykernel)",
   "language": "python",
   "name": "python3"
  },
  "language_info": {
   "codemirror_mode": {
    "name": "ipython",
    "version": 3
   },
   "file_extension": ".py",
   "mimetype": "text/x-python",
   "name": "python",
   "nbconvert_exporter": "python",
   "pygments_lexer": "ipython3",
   "version": "3.9.12"
  }
 },
 "nbformat": 4,
 "nbformat_minor": 5
}
