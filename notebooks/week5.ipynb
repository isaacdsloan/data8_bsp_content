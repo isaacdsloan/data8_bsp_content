{
 "cells": [
  {
   "attachments": {},
   "cell_type": "markdown",
   "id": "ab81841a-fc35-4e62-8234-4244699f4d51",
   "metadata": {},
   "source": [
    "# Conditionals, Iteration, Simulation"
   ]
  },
  {
   "cell_type": "code",
   "execution_count": 3,
   "id": "5d8db596-e157-4d73-b337-025b84c2f5b4",
   "metadata": {},
   "outputs": [],
   "source": [
    "from datascience import *\n",
    "import pandas as pd\n",
    "import matplotlib.pyplot as plt\n",
    "import numpy as np\n",
    "%matplotlib inline"
   ]
  },
  {
   "attachments": {},
   "cell_type": "markdown",
   "id": "cb137589",
   "metadata": {},
   "source": [
    "### Conditionals \n",
    "\n",
    "Also know as if-else statements, these powerful built in python expressions are seen throughout other programming languages and are based off of the if-then statements in logic. With some interger value x, the following serves as the basic structure of conditional statements. \n",
    "\n",
    "```python\n",
    "if x > 5:\n",
    "    return \"greater than 5\"\n",
    "elif x > 10:\n",
    "    return \"greater than 10\"\n",
    "...\n",
    "else:\n",
    "    return \"greater than everything\n",
    "    \n",
    "```\n",
    "For the conditional statement above, python goes through the if expressions, i.e. `if x > 5`, `elif x > 10` and evaluates the first true statement. Python goes in order so it is important your logic is correct. \n",
    "\n",
    "\n",
    "For a conditional, we always start off with `if (some expression is true)` and a conditional block only has one if. \n",
    "\n",
    "`elif` short for `else if` similar to `if` has the form `elif (some expression is true)`. If the first thing isn't true then elif statements check for other possibilities. \n",
    "\n",
    "Finally after we have checked for the important possibilities, `else` is used as a last resort. If all the previous conditional statements do not evaluate to true, your conditional block will evaluate the `else` expression. \n"
   ]
  },
  {
   "attachments": {},
   "cell_type": "markdown",
   "id": "12a080bb",
   "metadata": {},
   "source": [
    "##### Boolean/Truth Expression\n",
    "What type does the following return?"
   ]
  },
  {
   "cell_type": "code",
   "execution_count": 4,
   "id": "f1e50449",
   "metadata": {},
   "outputs": [
    {
     "data": {
      "text/plain": [
       "False"
      ]
     },
     "execution_count": 4,
     "metadata": {},
     "output_type": "execute_result"
    }
   ],
   "source": [
    "1 == 2"
   ]
  },
  {
   "cell_type": "code",
   "execution_count": 5,
   "id": "fe37c394",
   "metadata": {},
   "outputs": [
    {
     "data": {
      "text/plain": [
       "False"
      ]
     },
     "execution_count": 5,
     "metadata": {},
     "output_type": "execute_result"
    }
   ],
   "source": [
    "3 > 5"
   ]
  },
  {
   "cell_type": "code",
   "execution_count": 6,
   "id": "5eecd86a",
   "metadata": {},
   "outputs": [
    {
     "data": {
      "text/plain": [
       "True"
      ]
     },
     "execution_count": 6,
     "metadata": {},
     "output_type": "execute_result"
    }
   ],
   "source": [
    "6 <= 10"
   ]
  },
  {
   "attachments": {},
   "cell_type": "markdown",
   "id": "1da0ed56",
   "metadata": {},
   "source": [
    "***Remember the boolean `True` is different from the string `\"True\"`***"
   ]
  },
  {
   "attachments": {},
   "cell_type": "markdown",
   "id": "1ac4bbcb",
   "metadata": {},
   "source": [
    "##### Practice\n",
    "\n",
    "**Let's say I am a really big cereal person but I like different cereal on different days. On Mondays I have Almond Delight, on Fridays I have Apple Jacks, and the other days I eat Lucky Charms. Write a function that takes in a weekday, i.e. \"Monday\", and returns the cereal type that I eat that day, i.e. Almond Delight**"
   ]
  },
  {
   "cell_type": "code",
   "execution_count": 8,
   "id": "e0bc3ba1",
   "metadata": {},
   "outputs": [],
   "source": [
    "cereal = Table().read_table(\"../data/cereal.csv\")\n",
    "\n",
    "def isaac_cereal(...):\n",
    "    return ...\n",
    "\n",
    "\n",
    "isaac_cereal(\"Monday\")"
   ]
  },
  {
   "attachments": {},
   "cell_type": "markdown",
   "id": "158419db",
   "metadata": {},
   "source": [
    "### Iteration\n",
    "\n",
    "The built in python operator `for` will help us loop through multiple values and repeat a specified commmand. For example, \n",
    "\n",
    "```python\n",
    "for number in list_numbers:\n",
    "    print(number)\n",
    "\n",
    "```\n",
    "\n",
    "In a `for` loop, it helps to interpret the statement the way it would sound in english, i.e. **for each number inside the list of numbers, print each number**. In the `for loop` above, `number` is one item within the list called list_number. Python goes through each item in list_numbers, and each item is refered to as `number` but we can call it literally whatever. If we want to do something with the item in the list, i.e. `number`, we must call the variable and apply something to it like `print(number)`. `list_number` is just an example, but the value type that must go after `in` in the for loop must be either a list, array, or other iterable. "
   ]
  },
  {
   "attachments": {},
   "cell_type": "markdown",
   "id": "cea24077",
   "metadata": {},
   "source": [
    "**Pick your 5 favorite cereals from the list of cereals and assign it to an array `top_5`. Make a for loop that prints each of your top 5 cereals.**"
   ]
  },
  {
   "cell_type": "code",
   "execution_count": 11,
   "id": "782af1d0",
   "metadata": {},
   "outputs": [
    {
     "data": {
      "text/plain": [
       "'Lucky Charms'"
      ]
     },
     "execution_count": 11,
     "metadata": {},
     "output_type": "execute_result"
    }
   ],
   "source": [
    "top_5 = make_array(\"Wheaties\", \"Apple Jacks\", \"Lucky Charms\", \"Honey Nut Cheerios\", \"Fruity Pebbles\")\n",
    "..."
   ]
  },
  {
   "attachments": {},
   "cell_type": "markdown",
   "id": "349b3ea5",
   "metadata": {},
   "source": [
    "**To make things a little more complicated, let's add conditionals within the for loop. Choose your favorite cereal from the top 5 list. Write a for loop that goes through your list but make sure it prints \"My favorite cereral\" if the item is your favorite cereal, and print \"Not my favorite cereal\" otherwise**"
   ]
  },
  {
   "cell_type": "code",
   "execution_count": null,
   "id": "d1f6c184",
   "metadata": {},
   "outputs": [],
   "source": [
    "..."
   ]
  },
  {
   "attachments": {},
   "cell_type": "markdown",
   "id": "1cd6ba74-d515-4019-a685-28bdc1b70d6a",
   "metadata": {},
   "source": [
    "### Simulation\n",
    "\n",
    "#### **Step 1: What to Simulate**\n",
    "\n",
    "Decide which quantity you want to simulate. For example, you might decide that you want to simulate the outcomes of tosses of a coin. Each simulated value will be a Head or a Tail.\n",
    "\n",
    "#### **Step 2: Simulating One Value**\n",
    "\n",
    "Figure out how to simulate one value of the quantity you specified in Step 1. In our example, you have to figure out how to simulate the outcome of one toss of a coin. If your quantity is more complicated, you might need several lines of code to come up with one simulated value. Typically, we will define a function that returns the simulated value.\n",
    "\n",
    "##### **Step 3: Number of Repetitions**\n",
    "\n",
    "Decide how many times you want to simulate the quantity. You will have to repeat the simulation in Step 2 that many times. In one of our earlier examples we had decided to simulate the outcomes of 1000 tosses of a coin, and so we needed 1000 repetitions of generating the outcome of a single toss.\n",
    "\n",
    "##### **Step 4: Simulating Multiple Values**\n",
    "\n",
    "Finally, put it all together as follows.\n",
    "\n",
    "Create an empty array in which to collect all the simulated values. We will call this the collection array.\n",
    "\n",
    "Create a “repetitions sequence,” that is, a sequence whose length is the number of repetitions you specified in Step 3. For n repetitions we will almost always use the sequence np.arange(n).\n",
    "\n",
    "Create a for loop. For each element of the repetitions sequence:\n",
    "\n",
    "Simulate one value by using the function you wrote in Step 2.\n",
    "\n",
    "Augment the collection array with this simulated value.\n",
    "\n",
    "***(From Data 8 Textbook, Section 9.3)***\n"
   ]
  },
  {
   "cell_type": "code",
   "execution_count": 9,
   "id": "2f083619",
   "metadata": {},
   "outputs": [
    {
     "data": {
      "text/plain": [
       "Ellipsis"
      ]
     },
     "execution_count": 9,
     "metadata": {},
     "output_type": "execute_result"
    }
   ],
   "source": [
    "np.random.choice(top_5)"
   ]
  }
 ],
 "metadata": {
  "kernelspec": {
   "display_name": "IPython - base",
   "language": "python",
   "name": "base"
  },
  "language_info": {
   "codemirror_mode": {
    "name": "ipython",
    "version": 3
   },
   "file_extension": ".py",
   "mimetype": "text/x-python",
   "name": "python",
   "nbconvert_exporter": "python",
   "pygments_lexer": "ipython3",
   "version": "3.10.9"
  },
  "vscode": {
   "interpreter": {
    "hash": "8728410c3bce4b394dee6feb19f07d98a83c71158217e159463bb2ea464be5ae"
   }
  }
 },
 "nbformat": 4,
 "nbformat_minor": 5
}
