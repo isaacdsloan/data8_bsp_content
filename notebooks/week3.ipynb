{
 "cells": [
  {
   "cell_type": "code",
   "execution_count": 1,
   "id": "6c2f1bb5-f147-4123-bf43-9a3d450c49b2",
   "metadata": {
    "id": "6c2f1bb5-f147-4123-bf43-9a3d450c49b2"
   },
   "outputs": [],
   "source": [
    "from datetime import datetime\n",
    "from datascience import *\n",
    "import pandas as pd\n",
    "import matplotlib.pyplot as plt"
   ]
  },
  {
   "cell_type": "markdown",
   "id": "1da5f5d4",
   "metadata": {},
   "source": [
    "### Data Types"
   ]
  },
  {
   "cell_type": "markdown",
   "id": "ef43e960",
   "metadata": {},
   "source": [
    "| Data Types      | Examples |\n",
    "| ----------- | ----------- |\n",
    "| int      | 5, 10, any whole number|\n",
    "| Table   | Table()        |\n",
    "|array| make_array(1,2,3), np.array(2,3,4), ...|\n",
    "|str|\"Hello\", \"Isaac\", str(1)|"
   ]
  },
  {
   "cell_type": "markdown",
   "id": "ed9c5051-a275-4b2a-9640-2ef555b885c9",
   "metadata": {
    "id": "ed9c5051-a275-4b2a-9640-2ef555b885c9"
   },
   "source": [
    "### Load Up Data\n",
    "\n",
    "We begin by loading data on COVID-19 during the early times of the pandemic back in early 2020. Remember that to create a table we need to create an instance of the `Table()` object and then add columns or read in a file. How do we read in the table `covid_us.txt`?"
   ]
  },
  {
   "cell_type": "code",
   "execution_count": 2,
   "id": "1c505611",
   "metadata": {},
   "outputs": [],
   "source": [
    "def datetime_parser(string):\n",
    "    datetime_object = datetime.strptime(string, '%m/%d/%y')\n",
    "    return datetime_object"
   ]
  },
  {
   "cell_type": "code",
   "execution_count": 3,
   "id": "4b0f7f25-055d-45d7-a6db-88abe44fbc1b",
   "metadata": {
    "id": "4b0f7f25-055d-45d7-a6db-88abe44fbc1b",
    "outputId": "36fa27ab-8fcf-41f1-e153-889cf7e35e86"
   },
   "outputs": [],
   "source": [
    "covid_us = ..."
   ]
  },
  {
   "cell_type": "markdown",
   "id": "9e83f415",
   "metadata": {},
   "source": [
    "### Challenge\n",
    "\n",
    "**Create a new column called \"New Date\" that applies the datetime_parser function to each item in the \"Date\" column.**"
   ]
  },
  {
   "cell_type": "code",
   "execution_count": 4,
   "id": "9007dc33-b8e8-4e25-93c4-4f29df88f045",
   "metadata": {},
   "outputs": [],
   "source": [
    "covid_us = ..."
   ]
  },
  {
   "cell_type": "markdown",
   "id": "976a0aa4-ace6-482e-b7ff-4881f26f2c6c",
   "metadata": {
    "id": "976a0aa4-ace6-482e-b7ff-4881f26f2c6c"
   },
   "source": [
    "Let's see what the columns are for this table. **What is the command for accessing the columns and what data type does it return?**"
   ]
  },
  {
   "cell_type": "code",
   "execution_count": 5,
   "id": "30b1f373-903a-4702-b8a4-079c3a7b1439",
   "metadata": {
    "id": "30b1f373-903a-4702-b8a4-079c3a7b1439",
    "outputId": "04350097-4ca4-4fba-f400-f6e1ab7e37ce"
   },
   "outputs": [
    {
     "data": {
      "text/plain": [
       "Ellipsis"
      ]
     },
     "execution_count": 5,
     "metadata": {},
     "output_type": "execute_result"
    }
   ],
   "source": [
    "..."
   ]
  },
  {
   "cell_type": "markdown",
   "id": "44964545-9c29-4ea0-9e81-b08c99bfac12",
   "metadata": {
    "id": "44964545-9c29-4ea0-9e81-b08c99bfac12"
   },
   "source": [
    "##### Discuss with someone near you what each of these columns mean. Feel free to play around with the data to figure it out"
   ]
  },
  {
   "cell_type": "code",
   "execution_count": 6,
   "id": "9808ba4a",
   "metadata": {
    "id": "9808ba4a",
    "outputId": "97781500-0b3c-4c58-b6df-7ffc61f682c1"
   },
   "outputs": [
    {
     "data": {
      "text/plain": [
       "Ellipsis"
      ]
     },
     "execution_count": 6,
     "metadata": {},
     "output_type": "execute_result"
    }
   ],
   "source": [
    "..."
   ]
  },
  {
   "cell_type": "markdown",
   "id": "caafbf37-6a6d-47b4-8ccf-4f1e56d5e94a",
   "metadata": {
    "id": "caafbf37-6a6d-47b4-8ccf-4f1e56d5e94a"
   },
   "source": [
    "### Looking at Alameda County\n",
    "\n",
    "After taking a look at the columns lets cut them down to just the columns we need:\n",
    "\n",
    "**Admin2, Province_State, New Date, Confirmed, Deaths**"
   ]
  },
  {
   "cell_type": "code",
   "execution_count": 7,
   "id": "b28b9860-e6bb-4f74-8e9a-c281038d8bce",
   "metadata": {
    "id": "b28b9860-e6bb-4f74-8e9a-c281038d8bce"
   },
   "outputs": [],
   "source": [
    "covid_us = ...\n",
    "# or .select"
   ]
  },
  {
   "cell_type": "markdown",
   "id": "95a70a86",
   "metadata": {},
   "source": [
    "What is Admin2? Let's rename it to something that is easier to understand."
   ]
  },
  {
   "cell_type": "code",
   "execution_count": 8,
   "id": "2bb6a45f-6dbf-4fec-94ac-7c2dfc8be9ea",
   "metadata": {},
   "outputs": [],
   "source": [
    "# help(covid_us.where)\n",
    "..."
   ]
  },
  {
   "cell_type": "markdown",
   "id": "950421c5",
   "metadata": {},
   "source": [
    "### TEST QUESTIONS"
   ]
  },
  {
   "cell_type": "markdown",
   "id": "8b92760e-0414-47b0-a7b5-9c986b61e16b",
   "metadata": {
    "id": "8b92760e-0414-47b0-a7b5-9c986b61e16b"
   },
   "source": [
    "1) **Let's practice .where! Output a filtered version of covid_us with rows only in Alameda County, California**"
   ]
  },
  {
   "cell_type": "code",
   "execution_count": 10,
   "id": "e9494fae-3eeb-4b14-9309-392f2ce15ef3",
   "metadata": {
    "id": "e9494fae-3eeb-4b14-9309-392f2ce15ef3",
    "outputId": "c824e488-c5da-45d4-d5f2-98e243d93ada"
   },
   "outputs": [
    {
     "data": {
      "text/plain": [
       "Ellipsis"
      ]
     },
     "execution_count": 10,
     "metadata": {},
     "output_type": "execute_result"
    }
   ],
   "source": [
    "covid_california = ...\n",
    "covid_alameda_county = ...\n",
    "covid_alameda_county"
   ]
  },
  {
   "cell_type": "markdown",
   "id": "43985d1e",
   "metadata": {},
   "source": [
    "2) **Count the total number of deaths from COVID in Alameda County during the time period of our dataset.**"
   ]
  },
  {
   "cell_type": "code",
   "execution_count": 11,
   "id": "3d2622ff",
   "metadata": {},
   "outputs": [
    {
     "data": {
      "text/plain": [
       "Ellipsis"
      ]
     },
     "execution_count": 11,
     "metadata": {},
     "output_type": "execute_result"
    }
   ],
   "source": [
    "..."
   ]
  },
  {
   "cell_type": "markdown",
   "id": "cb4e6ae6",
   "metadata": {},
   "source": [
    "3) **What is the last date that our Alameda County dataset had information on? You should return a `datetime` data type, i.e. `2023-01-31 6:30:00`**"
   ]
  },
  {
   "cell_type": "code",
   "execution_count": 12,
   "id": "53fbfdfb",
   "metadata": {},
   "outputs": [],
   "source": [
    "sorted_time_alameda = ...\n",
    "...\n",
    "..."
   ]
  },
  {
   "cell_type": "markdown",
   "id": "6ffd9d0d",
   "metadata": {},
   "source": [
    "### Challenge\n",
    "\n",
    "**Find the county in California with the highest death totals over the entire time period we have access to.**\n",
    "\n",
    "\n",
    "**Hint: use `group`**\n",
    "\n"
   ]
  },
  {
   "cell_type": "code",
   "execution_count": 13,
   "id": "e17eef0e",
   "metadata": {},
   "outputs": [
    {
     "data": {
      "text/plain": [
       "Ellipsis"
      ]
     },
     "execution_count": 13,
     "metadata": {},
     "output_type": "execute_result"
    }
   ],
   "source": [
    "..."
   ]
  },
  {
   "cell_type": "markdown",
   "id": "c3e1f417",
   "metadata": {},
   "source": [
    "## Plots"
   ]
  },
  {
   "cell_type": "markdown",
   "id": "e22f7dda",
   "metadata": {},
   "source": [
    "| Plot Types      | When would you use? |\n",
    "| ----------- | ----------- |\n",
    "| scatter      | comparing relationship between two or more continuous/numeric variables|\n",
    "| line   | numeric variable on the y, usually time variable on the x; use it when looking over time for a particular variable       |\n",
    "|histogram| looking at the distribution of one numerical variable; can plot multiple histograms for various numerical variables on one plot|\n",
    "|bar|looking at the numerical data of a categorical variable|"
   ]
  },
  {
   "cell_type": "markdown",
   "id": "289ab9d9",
   "metadata": {},
   "source": [
    "Now that we have the Alameda County data, **how should we visualize the changes in deaths(or confirmed cases) over time?**"
   ]
  },
  {
   "cell_type": "code",
   "execution_count": 14,
   "id": "75fdc28c",
   "metadata": {},
   "outputs": [
    {
     "data": {
      "text/plain": [
       "Ellipsis"
      ]
     },
     "execution_count": 14,
     "metadata": {},
     "output_type": "execute_result"
    }
   ],
   "source": [
    "..."
   ]
  },
  {
   "cell_type": "markdown",
   "id": "aa0f94d8",
   "metadata": {},
   "source": [
    "Now given a table that gives us each state and their respective death totals(check out `total_deaths_by_state`), **what is an appropriate way to visualize the death totals for each state in one plot?**"
   ]
  },
  {
   "cell_type": "code",
   "execution_count": 15,
   "id": "1127e59d",
   "metadata": {},
   "outputs": [],
   "source": [
    "total_deaths_by_state = ...\n",
    "..."
   ]
  },
  {
   "cell_type": "markdown",
   "id": "28bd5af1",
   "metadata": {},
   "source": [
    "**How should we visualize the relationship between confirmed cases and deaths in Alameda county?**"
   ]
  },
  {
   "cell_type": "code",
   "execution_count": 16,
   "id": "87c2246c",
   "metadata": {},
   "outputs": [
    {
     "data": {
      "text/plain": [
       "Ellipsis"
      ]
     },
     "execution_count": 16,
     "metadata": {},
     "output_type": "execute_result"
    }
   ],
   "source": [
    "...\n"
   ]
  },
  {
   "cell_type": "markdown",
   "id": "e6ae11fa",
   "metadata": {},
   "source": [
    "**How do we visualize the distribution of death totals per day in Alameda county?**"
   ]
  },
  {
   "cell_type": "code",
   "execution_count": 17,
   "id": "224a3263",
   "metadata": {},
   "outputs": [
    {
     "data": {
      "text/plain": [
       "Ellipsis"
      ]
     },
     "execution_count": 17,
     "metadata": {},
     "output_type": "execute_result"
    }
   ],
   "source": [
    "..."
   ]
  }
 ],
 "metadata": {
  "colab": {
   "name": "Tables.ipynb",
   "provenance": []
  },
  "kernelspec": {
   "display_name": "IPython - base",
   "language": "python",
   "name": "base"
  },
  "language_info": {
   "codemirror_mode": {
    "name": "ipython",
    "version": 3
   },
   "file_extension": ".py",
   "mimetype": "text/x-python",
   "name": "python",
   "nbconvert_exporter": "python",
   "pygments_lexer": "ipython3",
   "version": "3.10.8"
  },
  "vscode": {
   "interpreter": {
    "hash": "8728410c3bce4b394dee6feb19f07d98a83c71158217e159463bb2ea464be5ae"
   }
  }
 },
 "nbformat": 4,
 "nbformat_minor": 5
}
