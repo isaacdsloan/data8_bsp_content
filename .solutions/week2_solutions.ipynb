{
 "cells": [
  {
   "cell_type": "code",
   "execution_count": 28,
   "id": "6c2f1bb5-f147-4123-bf43-9a3d450c49b2",
   "metadata": {
    "id": "6c2f1bb5-f147-4123-bf43-9a3d450c49b2"
   },
   "outputs": [],
   "source": [
    "from datetime import datetime\n",
    "from datascience import *\n",
    "import pandas as pd\n",
    "import matplotlib.pyplot as plt\n",
    "%matplotlib inline"
   ]
  },
  {
   "cell_type": "markdown",
   "id": "09ce78f0",
   "metadata": {},
   "source": [
    "### Review of Functions\n",
    "If you recall last week we had a set up similar to this when trying to build the average function. To begin we will go over talking about the difference between **global** and **local** environment variables to clear up confusion."
   ]
  },
  {
   "cell_type": "code",
   "execution_count": 29,
   "id": "ec3ba732",
   "metadata": {},
   "outputs": [],
   "source": [
    "x = make_array(1,2,3)\n",
    "array = make_array(4,5,6)"
   ]
  },
  {
   "cell_type": "markdown",
   "id": "72f6b398",
   "metadata": {},
   "source": [
    "**Build a function that takes in an array and returns the average of that array**"
   ]
  },
  {
   "cell_type": "code",
   "execution_count": 30,
   "id": "1827615f",
   "metadata": {},
   "outputs": [],
   "source": [
    "def average(array):\n",
    "    return sum(array) / len(array)"
   ]
  },
  {
   "cell_type": "markdown",
   "id": "92ae66f1",
   "metadata": {},
   "source": [
    "* The **argument** ``array`` that is defined **within** the function ``average`` is considered a **local** variable\n",
    "\n",
    "\n",
    "* The **variable** ``array`` that is defined in the second block of code is considered a **global** variable\n",
    "\n",
    "\n",
    "* When a function takes in an argument and goes through its code i.e. ``sum(array) / len(array)`` python first looks for any **local** variables with the name `array`\n",
    "    * Since there is a local variable called `array` from the argument of the function, python uses the argument `array` to process the function, **not** the variable ``array`` defined in the second block of code"
   ]
  },
  {
   "cell_type": "markdown",
   "id": "4ac91c4f",
   "metadata": {},
   "source": [
    "Based on the two chunks of code above, what would be wrong with using the function?\n",
    "\n",
    "```python\n",
    "def average(array):\n",
    "    return sum(x) / len(x)\n",
    "    \n",
    "```"
   ]
  },
  {
   "cell_type": "code",
   "execution_count": null,
   "id": "2bfc7960",
   "metadata": {},
   "outputs": [],
   "source": []
  },
  {
   "cell_type": "markdown",
   "id": "4757795a",
   "metadata": {},
   "source": [
    "Is the function below the same as the one we created above?\n",
    "\n",
    "```python\n",
    "def average(x):\n",
    "    return sum(x) / len(x)\n",
    "    \n",
    "```\n",
    "\n",
    "Does replacing the argument `array` actually change anything?"
   ]
  },
  {
   "cell_type": "code",
   "execution_count": 31,
   "id": "ab1174b1",
   "metadata": {},
   "outputs": [
    {
     "data": {
      "text/plain": [
       "5"
      ]
     },
     "execution_count": 31,
     "metadata": {},
     "output_type": "execute_result"
    }
   ],
   "source": [
    "5"
   ]
  },
  {
   "cell_type": "markdown",
   "id": "1da5f5d4",
   "metadata": {},
   "source": [
    "### Practicing Data Types"
   ]
  },
  {
   "cell_type": "markdown",
   "id": "ef43e960",
   "metadata": {},
   "source": [
    "| Data Types      | Examples |\n",
    "| ----------- | ----------- |\n",
    "| int      | 5, 10, any whole number|\n",
    "| Table   | Table()        |\n",
    "|array| make_array(1,2,3), np.array(2,3,4), ...|"
   ]
  },
  {
   "cell_type": "markdown",
   "id": "1797e9af",
   "metadata": {},
   "source": [
    "1) Imagine we have a table called `tbl` with a bunch of colums and rows and we want to apply `.where` to that table. What **data type** will a call of `tbl.where(...)` return?"
   ]
  },
  {
   "cell_type": "markdown",
   "id": "57987518",
   "metadata": {},
   "source": [
    "2) What **data type** does `tbl.column(...)` return?"
   ]
  },
  {
   "cell_type": "markdown",
   "id": "e8b1711c",
   "metadata": {},
   "source": [
    "### Table Warm Up!\n",
    "\n",
    "Reconstruct the table below!\n",
    "\n",
    "| Instructor      | Office Hours |Office Hour Day |Study Group | Study Group Day|\n",
    "| ----------- | ----------- |-------| --------- |-----|\n",
    "| Isaac      | 5:00 pm       |Tuesday|6:30 pm|Thursday|\n",
    "| Alex   | 11:00 am        |Wednesday|11:00 am|Monday|"
   ]
  },
  {
   "cell_type": "code",
   "execution_count": 32,
   "id": "9b18f04d",
   "metadata": {},
   "outputs": [
    {
     "data": {
      "text/html": [
       "<table border=\"1\" class=\"dataframe\">\n",
       "    <thead>\n",
       "        <tr>\n",
       "            <th>Instructor</th> <th>Office Hours</th> <th>Office Hour Day</th> <th>Study Group</th> <th>Study Group Day</th>\n",
       "        </tr>\n",
       "    </thead>\n",
       "    <tbody>\n",
       "        <tr>\n",
       "            <td>Isaac     </td> <td>5:00 pm     </td> <td>Tuesday        </td> <td>6:30 pm    </td> <td>Thursday       </td>\n",
       "        </tr>\n",
       "        <tr>\n",
       "            <td>Alex      </td> <td>11:00 am    </td> <td>Wednesday      </td> <td>11:00 am   </td> <td>Monday         </td>\n",
       "        </tr>\n",
       "    </tbody>\n",
       "</table>"
      ],
      "text/plain": [
       "Instructor | Office Hours | Office Hour Day | Study Group | Study Group Day\n",
       "Isaac      | 5:00 pm      | Tuesday         | 6:30 pm     | Thursday\n",
       "Alex       | 11:00 am     | Wednesday       | 11:00 am    | Monday"
      ]
     },
     "execution_count": 32,
     "metadata": {},
     "output_type": "execute_result"
    }
   ],
   "source": [
    "Table().with_columns(\"Instructor\", [\"Isaac\", \"Alex\"], \n",
    "                    \"Office Hours\", [\"5:00 pm\", \"11:00 am\"], \n",
    "                    \"Office Hour Day\", [\"Tuesday\", \"Wednesday\"], \n",
    "                   \"Study Group\", [\"6:30 pm\", \"11:00 am\"], \n",
    "                   \"Study Group Day\", [\"Thursday\", \"Monday\"])"
   ]
  },
  {
   "cell_type": "markdown",
   "id": "ed9c5051-a275-4b2a-9640-2ef555b885c9",
   "metadata": {
    "id": "ed9c5051-a275-4b2a-9640-2ef555b885c9"
   },
   "source": [
    "### Load Up Data\n",
    "\n",
    "We begin by loading data on COVID-19 during the early times of the pandemic back in early 2020"
   ]
  },
  {
   "cell_type": "code",
   "execution_count": 33,
   "id": "1c505611",
   "metadata": {},
   "outputs": [],
   "source": [
    "def datetime_parser(string):\n",
    "    datetime_object = datetime.strptime(string, '%m/%d/%y')\n",
    "    return datetime_object"
   ]
  },
  {
   "cell_type": "code",
   "execution_count": 34,
   "id": "4b0f7f25-055d-45d7-a6db-88abe44fbc1b",
   "metadata": {
    "id": "4b0f7f25-055d-45d7-a6db-88abe44fbc1b",
    "outputId": "36fa27ab-8fcf-41f1-e153-889cf7e35e86"
   },
   "outputs": [],
   "source": [
    "covid_us = Table().read_table(\"../covid_data/covid_us.txt\")"
   ]
  },
  {
   "cell_type": "code",
   "execution_count": 35,
   "id": "9007dc33-b8e8-4e25-93c4-4f29df88f045",
   "metadata": {},
   "outputs": [],
   "source": [
    "covid_us = covid_us.with_column(\"New Date\", covid_us.apply(datetime_parser, \"Date\"))"
   ]
  },
  {
   "cell_type": "markdown",
   "id": "976a0aa4-ace6-482e-b7ff-4881f26f2c6c",
   "metadata": {
    "id": "976a0aa4-ace6-482e-b7ff-4881f26f2c6c"
   },
   "source": [
    "Let's see what the columns are for this table. **What is the command for accessing the columns and what data type does it return?**"
   ]
  },
  {
   "cell_type": "code",
   "execution_count": 36,
   "id": "30b1f373-903a-4702-b8a4-079c3a7b1439",
   "metadata": {
    "id": "30b1f373-903a-4702-b8a4-079c3a7b1439",
    "outputId": "04350097-4ca4-4fba-f400-f6e1ab7e37ce"
   },
   "outputs": [
    {
     "data": {
      "text/plain": [
       "('Unnamed: 0',\n",
       " 'UID',\n",
       " 'iso2',\n",
       " 'iso3',\n",
       " 'code3',\n",
       " 'FIPS',\n",
       " 'Admin2',\n",
       " 'Province_State',\n",
       " 'Country_Region',\n",
       " 'Lat',\n",
       " 'Long_',\n",
       " 'Combined_Key',\n",
       " 'Date',\n",
       " 'Confirmed',\n",
       " 'Deaths',\n",
       " 'New Date')"
      ]
     },
     "execution_count": 36,
     "metadata": {},
     "output_type": "execute_result"
    }
   ],
   "source": [
    "covid_us.labels"
   ]
  },
  {
   "cell_type": "markdown",
   "id": "44964545-9c29-4ea0-9e81-b08c99bfac12",
   "metadata": {
    "id": "44964545-9c29-4ea0-9e81-b08c99bfac12"
   },
   "source": [
    "##### Discuss with someone near you what each of these columns mean. Feel free to play around with the data to figure it out"
   ]
  },
  {
   "cell_type": "code",
   "execution_count": 47,
   "id": "9808ba4a",
   "metadata": {
    "id": "9808ba4a",
    "outputId": "97781500-0b3c-4c58-b6df-7ffc61f682c1"
   },
   "outputs": [
    {
     "data": {
      "text/html": [
       "<table border=\"1\" class=\"dataframe\">\n",
       "    <thead>\n",
       "        <tr>\n",
       "            <th>Unnamed: 0</th> <th>Admin2</th> <th>Province_State</th> <th>Date</th> <th>Confirmed</th> <th>Deaths</th> <th>New Date</th>\n",
       "        </tr>\n",
       "    </thead>\n",
       "    <tbody>\n",
       "        <tr>\n",
       "            <td>82        </td> <td>Autauga </td> <td>Alabama       </td> <td>1/22/20</td> <td>0        </td> <td>0     </td> <td>2020-01-22 00:00:00</td>\n",
       "        </tr>\n",
       "        <tr>\n",
       "            <td>83        </td> <td>Baldwin </td> <td>Alabama       </td> <td>1/22/20</td> <td>0        </td> <td>0     </td> <td>2020-01-22 00:00:00</td>\n",
       "        </tr>\n",
       "        <tr>\n",
       "            <td>84        </td> <td>Barbour </td> <td>Alabama       </td> <td>1/22/20</td> <td>0        </td> <td>0     </td> <td>2020-01-22 00:00:00</td>\n",
       "        </tr>\n",
       "        <tr>\n",
       "            <td>85        </td> <td>Bibb    </td> <td>Alabama       </td> <td>1/22/20</td> <td>0        </td> <td>0     </td> <td>2020-01-22 00:00:00</td>\n",
       "        </tr>\n",
       "        <tr>\n",
       "            <td>86        </td> <td>Blount  </td> <td>Alabama       </td> <td>1/22/20</td> <td>0        </td> <td>0     </td> <td>2020-01-22 00:00:00</td>\n",
       "        </tr>\n",
       "        <tr>\n",
       "            <td>87        </td> <td>Bullock </td> <td>Alabama       </td> <td>1/22/20</td> <td>0        </td> <td>0     </td> <td>2020-01-22 00:00:00</td>\n",
       "        </tr>\n",
       "        <tr>\n",
       "            <td>88        </td> <td>Butler  </td> <td>Alabama       </td> <td>1/22/20</td> <td>0        </td> <td>0     </td> <td>2020-01-22 00:00:00</td>\n",
       "        </tr>\n",
       "        <tr>\n",
       "            <td>89        </td> <td>Calhoun </td> <td>Alabama       </td> <td>1/22/20</td> <td>0        </td> <td>0     </td> <td>2020-01-22 00:00:00</td>\n",
       "        </tr>\n",
       "        <tr>\n",
       "            <td>90        </td> <td>Chambers</td> <td>Alabama       </td> <td>1/22/20</td> <td>0        </td> <td>0     </td> <td>2020-01-22 00:00:00</td>\n",
       "        </tr>\n",
       "        <tr>\n",
       "            <td>91        </td> <td>Cherokee</td> <td>Alabama       </td> <td>1/22/20</td> <td>0        </td> <td>0     </td> <td>2020-01-22 00:00:00</td>\n",
       "        </tr>\n",
       "    </tbody>\n",
       "</table>\n",
       "<p>... (249124 rows omitted)</p>"
      ],
      "text/plain": [
       "Unnamed: 0 | Admin2   | Province_State | Date    | Confirmed | Deaths | New Date\n",
       "82         | Autauga  | Alabama        | 1/22/20 | 0         | 0      | 2020-01-22 00:00:00\n",
       "83         | Baldwin  | Alabama        | 1/22/20 | 0         | 0      | 2020-01-22 00:00:00\n",
       "84         | Barbour  | Alabama        | 1/22/20 | 0         | 0      | 2020-01-22 00:00:00\n",
       "85         | Bibb     | Alabama        | 1/22/20 | 0         | 0      | 2020-01-22 00:00:00\n",
       "86         | Blount   | Alabama        | 1/22/20 | 0         | 0      | 2020-01-22 00:00:00\n",
       "87         | Bullock  | Alabama        | 1/22/20 | 0         | 0      | 2020-01-22 00:00:00\n",
       "88         | Butler   | Alabama        | 1/22/20 | 0         | 0      | 2020-01-22 00:00:00\n",
       "89         | Calhoun  | Alabama        | 1/22/20 | 0         | 0      | 2020-01-22 00:00:00\n",
       "90         | Chambers | Alabama        | 1/22/20 | 0         | 0      | 2020-01-22 00:00:00\n",
       "91         | Cherokee | Alabama        | 1/22/20 | 0         | 0      | 2020-01-22 00:00:00\n",
       "... (249124 rows omitted)"
      ]
     },
     "execution_count": 47,
     "metadata": {},
     "output_type": "execute_result"
    }
   ],
   "source": [
    "covid_us.sort(\"Province_State\")"
   ]
  },
  {
   "cell_type": "markdown",
   "id": "caafbf37-6a6d-47b4-8ccf-4f1e56d5e94a",
   "metadata": {
    "id": "caafbf37-6a6d-47b4-8ccf-4f1e56d5e94a"
   },
   "source": [
    "### Looking at Alameda County\n",
    "\n",
    "After taking a look at the columns lets cut them down to just the columns we need:\n",
    "\n",
    "**Admin2, Province_State, New Date, Confirmed, Deaths**"
   ]
  },
  {
   "cell_type": "code",
   "execution_count": 15,
   "id": "b28b9860-e6bb-4f74-8e9a-c281038d8bce",
   "metadata": {
    "id": "b28b9860-e6bb-4f74-8e9a-c281038d8bce"
   },
   "outputs": [],
   "source": [
    "covid_us = covid_us.drop('Country_Region','UID','iso2','iso3','code3','FIPS', 'Lat', 'Long_', 'Combined_Key', 'Date')\n",
    "# or .select"
   ]
  },
  {
   "cell_type": "code",
   "execution_count": 11,
   "id": "2bb6a45f-6dbf-4fec-94ac-7c2dfc8be9ea",
   "metadata": {},
   "outputs": [],
   "source": [
    "# help(covid_us.where)"
   ]
  },
  {
   "cell_type": "markdown",
   "id": "950421c5",
   "metadata": {},
   "source": [
    "### TEST QUESTIONS"
   ]
  },
  {
   "cell_type": "markdown",
   "id": "8b92760e-0414-47b0-a7b5-9c986b61e16b",
   "metadata": {
    "id": "8b92760e-0414-47b0-a7b5-9c986b61e16b"
   },
   "source": [
    "1) **Let's practice .where! Output a filtered version of covid_us with rows only in Alameda County, California**"
   ]
  },
  {
   "cell_type": "code",
   "execution_count": 16,
   "id": "e9494fae-3eeb-4b14-9309-392f2ce15ef3",
   "metadata": {
    "id": "e9494fae-3eeb-4b14-9309-392f2ce15ef3",
    "outputId": "c824e488-c5da-45d4-d5f2-98e243d93ada"
   },
   "outputs": [
    {
     "data": {
      "text/html": [
       "<table border=\"1\" class=\"dataframe\">\n",
       "    <thead>\n",
       "        <tr>\n",
       "            <th>Unnamed: 0</th> <th>Admin2</th> <th>Province_State</th> <th>Confirmed</th> <th>Deaths</th> <th>New Date</th>\n",
       "        </tr>\n",
       "    </thead>\n",
       "    <tbody>\n",
       "        <tr>\n",
       "            <td>268       </td> <td>Alameda</td> <td>California    </td> <td>0        </td> <td>0     </td> <td>2020-01-22 00:00:00</td>\n",
       "        </tr>\n",
       "        <tr>\n",
       "            <td>3608      </td> <td>Alameda</td> <td>California    </td> <td>0        </td> <td>0     </td> <td>2020-01-23 00:00:00</td>\n",
       "        </tr>\n",
       "        <tr>\n",
       "            <td>6948      </td> <td>Alameda</td> <td>California    </td> <td>0        </td> <td>0     </td> <td>2020-01-24 00:00:00</td>\n",
       "        </tr>\n",
       "        <tr>\n",
       "            <td>10288     </td> <td>Alameda</td> <td>California    </td> <td>0        </td> <td>0     </td> <td>2020-01-25 00:00:00</td>\n",
       "        </tr>\n",
       "        <tr>\n",
       "            <td>13628     </td> <td>Alameda</td> <td>California    </td> <td>0        </td> <td>0     </td> <td>2020-01-26 00:00:00</td>\n",
       "        </tr>\n",
       "    </tbody>\n",
       "</table>\n",
       "<p>... (70 rows omitted)</p>"
      ],
      "text/plain": [
       "<IPython.core.display.HTML object>"
      ]
     },
     "metadata": {},
     "output_type": "display_data"
    }
   ],
   "source": [
    "covid_california = covid_us.where('Province_State', are.equal_to('California'))\n",
    "covid_alameda_county = covid_us.where('Admin2', are.equal_to('Alameda'))\n",
    "covid_alameda_county.show(5)"
   ]
  },
  {
   "cell_type": "markdown",
   "id": "43985d1e",
   "metadata": {},
   "source": [
    "2) **Count the total number of deaths from COVID in Alameda County during the time period of our dataset.**"
   ]
  },
  {
   "cell_type": "code",
   "execution_count": 17,
   "id": "3d2622ff",
   "metadata": {},
   "outputs": [
    {
     "data": {
      "text/plain": [
       "88.0"
      ]
     },
     "execution_count": 17,
     "metadata": {},
     "output_type": "execute_result"
    }
   ],
   "source": [
    "sum(covid_alameda_county.column(\"Deaths\"))"
   ]
  },
  {
   "cell_type": "markdown",
   "id": "cb4e6ae6",
   "metadata": {},
   "source": [
    "3) **What is the last date that our Alameda County dataset had information on? You should return a `datetime` data type, i.e. `2023-01-31 6:30:00`**"
   ]
  },
  {
   "cell_type": "code",
   "execution_count": 23,
   "id": "53fbfdfb",
   "metadata": {},
   "outputs": [
    {
     "data": {
      "text/plain": [
       "datetime.datetime(2020, 4, 5, 0, 0)"
      ]
     },
     "execution_count": 23,
     "metadata": {},
     "output_type": "execute_result"
    }
   ],
   "source": [
    "sorted_time_alameda = covid_alameda_county.sort(\"New Date\", descending=True)\n",
    "sorted_time_alameda.column(\"New Date\").item(0)"
   ]
  },
  {
   "cell_type": "markdown",
   "id": "6ffd9d0d",
   "metadata": {},
   "source": [
    "### Challenge\n",
    "\n",
    "**Find the county in California with the highest death totals over the entire time period we have access to.**"
   ]
  },
  {
   "cell_type": "code",
   "execution_count": null,
   "id": "e866ae9b",
   "metadata": {},
   "outputs": [],
   "source": []
  }
 ],
 "metadata": {
  "colab": {
   "name": "Tables.ipynb",
   "provenance": []
  },
  "kernelspec": {
   "display_name": "Python 3 (ipykernel)",
   "language": "python",
   "name": "python3"
  },
  "language_info": {
   "codemirror_mode": {
    "name": "ipython",
    "version": 3
   },
   "file_extension": ".py",
   "mimetype": "text/x-python",
   "name": "python",
   "nbconvert_exporter": "python",
   "pygments_lexer": "ipython3",
   "version": "3.10.8"
  }
 },
 "nbformat": 4,
 "nbformat_minor": 5
}
