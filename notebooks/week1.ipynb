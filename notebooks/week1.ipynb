{
 "cells": [
  {
   "cell_type": "markdown",
   "id": "4cf16435",
   "metadata": {
    "id": "4cf16435"
   },
   "source": [
    "## Intro to Jupyter Notebooks!!!\n",
    "\n",
    "Jupyter notebooks are simply a unique file format that combines executable coding cells with pure text cells. The goal of this intro is to get you all comfortable with the environment because you will spend a ton of time here. We know it can be scary and challenging when starting off, but we are here to help you! You are all future data scientists and are going to ace this class!"
   ]
  },
  {
   "cell_type": "code",
   "execution_count": 4,
   "id": "e65317ce",
   "metadata": {},
   "outputs": [
    {
     "data": {
      "text/plain": [
       "2"
      ]
     },
     "execution_count": 4,
     "metadata": {},
     "output_type": "execute_result"
    }
   ],
   "source": [
    "x = 2\n",
    "x"
   ]
  },
  {
   "cell_type": "markdown",
   "id": "8e1864bd",
   "metadata": {
    "id": "8e1864bd"
   },
   "source": [
    "We have a text cell here "
   ]
  },
  {
   "cell_type": "markdown",
   "id": "b70523d5",
   "metadata": {
    "id": "b70523d5"
   },
   "source": [
    "# HELLO BSP DATA SCIENTISTS!!!"
   ]
  },
  {
   "cell_type": "markdown",
   "id": "a53ecd0f",
   "metadata": {},
   "source": [
    "###### hello world"
   ]
  },
  {
   "cell_type": "markdown",
   "id": "6166eb79",
   "metadata": {
    "id": "6166eb79"
   },
   "source": [
    "## This is small"
   ]
  },
  {
   "cell_type": "markdown",
   "id": "983e2aa9",
   "metadata": {
    "id": "983e2aa9"
   },
   "source": [
    "### This is smaller"
   ]
  },
  {
   "cell_type": "markdown",
   "id": "69c43bd5",
   "metadata": {
    "id": "69c43bd5"
   },
   "source": [
    "#### This is even smaller"
   ]
  },
  {
   "cell_type": "markdown",
   "id": "d0899dcc",
   "metadata": {
    "id": "d0899dcc"
   },
   "source": [
    "##### Still smaller"
   ]
  },
  {
   "cell_type": "markdown",
   "id": "61d7968b",
   "metadata": {
    "id": "61d7968b"
   },
   "source": [
    "###### Smallest heading"
   ]
  },
  {
   "cell_type": "code",
   "execution_count": 8,
   "id": "7af875a0",
   "metadata": {
    "id": "7af875a0",
    "outputId": "f7df4398-9b58-4e53-9374-eeb9de2788a7"
   },
   "outputs": [
    {
     "ename": "SyntaxError",
     "evalue": "invalid syntax (2506167708.py, line 1)",
     "output_type": "error",
     "traceback": [
      "\u001b[0;36m  Input \u001b[0;32mIn [8]\u001b[0;36m\u001b[0m\n\u001b[0;31m    We have a text cell here\u001b[0m\n\u001b[0m       ^\u001b[0m\n\u001b[0;31mSyntaxError\u001b[0m\u001b[0;31m:\u001b[0m invalid syntax\n"
     ]
    }
   ],
   "source": [
    "We have a text cell here"
   ]
  },
  {
   "cell_type": "markdown",
   "id": "6be207a3",
   "metadata": {
    "id": "6be207a3"
   },
   "source": [
    "**Change the cell above so that it becomes a markdown cell and make it huge**"
   ]
  },
  {
   "cell_type": "markdown",
   "id": "0ba11ba4",
   "metadata": {
    "id": "0ba11ba4"
   },
   "source": [
    "**Tip:** Do not forget to save after you finish a problem!\n",
    "\n",
    "If you make a mistake like delete a cell you didn't mean to delete or change your code so that it doesn't work anymore, you can always go back to the last checkpoint. Go to `File > Revert to Checkpoint` and click on the checkpoint you want to go to. Unfortunately you can't go back any further than the last checkpoint :("
   ]
  },
  {
   "cell_type": "markdown",
   "id": "b3a63091",
   "metadata": {
    "id": "b3a63091"
   },
   "source": [
    "### Basic Python\n",
    "\n",
    "When starting a session in Jupyter or writing a python script using another software, without importing any libraries or modules, you are stuck with the built in python library."
   ]
  },
  {
   "cell_type": "code",
   "execution_count": 9,
   "id": "33943738",
   "metadata": {
    "id": "33943738",
    "outputId": "77279f61-c1d9-42a1-b3e3-f050d74430be"
   },
   "outputs": [
    {
     "data": {
      "text/plain": [
       "'Hello World!'"
      ]
     },
     "execution_count": 9,
     "metadata": {},
     "output_type": "execute_result"
    }
   ],
   "source": [
    "\"Hello World!\""
   ]
  },
  {
   "cell_type": "code",
   "execution_count": 20,
   "id": "218094d7-366a-439a-a3be-3c52d6408b80",
   "metadata": {},
   "outputs": [
    {
     "data": {
      "text/plain": [
       "str"
      ]
     },
     "execution_count": 20,
     "metadata": {},
     "output_type": "execute_result"
    }
   ],
   "source": [
    "type(\"Hello World!\")"
   ]
  },
  {
   "cell_type": "code",
   "execution_count": null,
   "id": "659213dd",
   "metadata": {
    "id": "659213dd",
    "outputId": "b309322b-9430-4a92-fde3-28dee45cd520"
   },
   "outputs": [
    {
     "data": {
      "text/plain": [
       "2"
      ]
     },
     "execution_count": 2,
     "metadata": {},
     "output_type": "execute_result"
    }
   ],
   "source": [
    "1 + 1"
   ]
  },
  {
   "cell_type": "code",
   "execution_count": 12,
   "id": "3bb75b97",
   "metadata": {},
   "outputs": [
    {
     "data": {
      "text/plain": [
       "81"
      ]
     },
     "execution_count": 12,
     "metadata": {},
     "output_type": "execute_result"
    }
   ],
   "source": [
    "3 ** 4"
   ]
  },
  {
   "cell_type": "code",
   "execution_count": null,
   "id": "64e90b4b",
   "metadata": {
    "id": "64e90b4b",
    "outputId": "c956d3b2-449f-46ce-b918-bde0b6455f20"
   },
   "outputs": [
    {
     "data": {
      "text/plain": [
       "False"
      ]
     },
     "execution_count": 8,
     "metadata": {},
     "output_type": "execute_result"
    }
   ],
   "source": [
    "5 == 6"
   ]
  },
  {
   "cell_type": "code",
   "execution_count": 17,
   "id": "101d9fd1",
   "metadata": {},
   "outputs": [
    {
     "data": {
      "text/plain": [
       "True"
      ]
     },
     "execution_count": 17,
     "metadata": {},
     "output_type": "execute_result"
    }
   ],
   "source": [
    "5 <= 6"
   ]
  },
  {
   "cell_type": "code",
   "execution_count": null,
   "id": "9045d5bf",
   "metadata": {
    "id": "9045d5bf",
    "outputId": "2ea1d797-129f-4904-b0fc-ec04abcceacc"
   },
   "outputs": [
    {
     "data": {
      "text/plain": [
       "[1, 2, 3]"
      ]
     },
     "execution_count": 10,
     "metadata": {},
     "output_type": "execute_result"
    }
   ],
   "source": [
    "lst = [1,2,3]\n",
    "lst"
   ]
  },
  {
   "cell_type": "code",
   "execution_count": 20,
   "id": "aeac3cc3",
   "metadata": {},
   "outputs": [
    {
     "data": {
      "text/plain": [
       "[1, 2, 3, 4, 5, 'string']"
      ]
     },
     "execution_count": 20,
     "metadata": {},
     "output_type": "execute_result"
    }
   ],
   "source": [
    "isaac = [1,2,3,4,5, \"string\"]\n",
    "isaac"
   ]
  },
  {
   "cell_type": "code",
   "execution_count": 23,
   "id": "1257735d-da84-41f0-b8ae-153faba3a227",
   "metadata": {},
   "outputs": [
    {
     "data": {
      "text/plain": [
       "array([1, 3, 4])"
      ]
     },
     "execution_count": 23,
     "metadata": {},
     "output_type": "execute_result"
    }
   ],
   "source": [
    "make_array(1,3,4)"
   ]
  },
  {
   "cell_type": "code",
   "execution_count": 25,
   "id": "73651b9a",
   "metadata": {
    "id": "73651b9a",
    "outputId": "58e14afd-9b31-481f-fa95-b8e6418799d9"
   },
   "outputs": [
    {
     "name": "stdout",
     "output_type": "stream",
     "text": [
      "I <3 BSP\n"
     ]
    }
   ],
   "source": [
    "def BSP():\n",
    "    print(\"I <3 BSP\")\n",
    "\n",
    "BSP()"
   ]
  },
  {
   "cell_type": "code",
   "execution_count": 26,
   "id": "13987948",
   "metadata": {},
   "outputs": [],
   "source": [
    "x = 2"
   ]
  },
  {
   "cell_type": "code",
   "execution_count": 30,
   "id": "cfe7824f",
   "metadata": {},
   "outputs": [
    {
     "name": "stdout",
     "output_type": "stream",
     "text": [
      "I <3 BSP\n"
     ]
    }
   ],
   "source": [
    "x = BSP()"
   ]
  },
  {
   "cell_type": "code",
   "execution_count": 34,
   "id": "9b81328a",
   "metadata": {},
   "outputs": [
    {
     "data": {
      "text/plain": [
       "10"
      ]
     },
     "execution_count": 34,
     "metadata": {},
     "output_type": "execute_result"
    }
   ],
   "source": [
    "x = 2\n",
    "x = 10\n",
    "x"
   ]
  },
  {
   "cell_type": "markdown",
   "id": "93644c49",
   "metadata": {
    "id": "93644c49"
   },
   "source": [
    "### Built in Math Expessions"
   ]
  },
  {
   "cell_type": "markdown",
   "id": "1cf7b446",
   "metadata": {
    "id": "1cf7b446"
   },
   "source": [
    "#### Addition and Subtraction (`+` and  `-`)"
   ]
  },
  {
   "cell_type": "code",
   "execution_count": 33,
   "id": "9a89bf19",
   "metadata": {
    "id": "9a89bf19",
    "outputId": "a170aae8-3300-4a3f-9419-6b0bb7f48214"
   },
   "outputs": [
    {
     "data": {
      "text/plain": [
       "2"
      ]
     },
     "execution_count": 33,
     "metadata": {},
     "output_type": "execute_result"
    }
   ],
   "source": [
    "3 + 4 + 5 - 10"
   ]
  },
  {
   "cell_type": "markdown",
   "id": "ec2c137c",
   "metadata": {
    "id": "ec2c137c"
   },
   "source": [
    "#### Multiplication and Division (`*` and `/`)"
   ]
  },
  {
   "cell_type": "code",
   "execution_count": 35,
   "id": "6c007b7b",
   "metadata": {
    "id": "6c007b7b",
    "outputId": "a82a9caf-9beb-4748-a628-0a4947ce194a"
   },
   "outputs": [
    {
     "data": {
      "text/plain": [
       "20"
      ]
     },
     "execution_count": 35,
     "metadata": {},
     "output_type": "execute_result"
    }
   ],
   "source": [
    "4 * 5"
   ]
  },
  {
   "cell_type": "code",
   "execution_count": 36,
   "id": "4704081a",
   "metadata": {
    "id": "4704081a",
    "outputId": "053455ce-0da3-4d2a-b805-147e04788988"
   },
   "outputs": [
    {
     "data": {
      "text/plain": [
       "29.787333333333336"
      ]
     },
     "execution_count": 36,
     "metadata": {},
     "output_type": "execute_result"
    }
   ],
   "source": [
    "1340.43 / 45"
   ]
  },
  {
   "cell_type": "markdown",
   "id": "3b314314",
   "metadata": {
    "id": "3b314314"
   },
   "source": [
    "#### Floor Div and Mod (`//` and `%`)"
   ]
  },
  {
   "cell_type": "code",
   "execution_count": 37,
   "id": "89e9b317",
   "metadata": {
    "id": "89e9b317",
    "outputId": "601aea52-7198-4ac5-cd8b-3fdd2355583b"
   },
   "outputs": [
    {
     "data": {
      "text/plain": [
       "29.0"
      ]
     },
     "execution_count": 37,
     "metadata": {},
     "output_type": "execute_result"
    }
   ],
   "source": [
    "1340.43 // 45"
   ]
  },
  {
   "cell_type": "code",
   "execution_count": 38,
   "id": "fc941d80",
   "metadata": {
    "id": "fc941d80",
    "outputId": "41037f13-87b0-43bf-ac88-052dd52119b8"
   },
   "outputs": [
    {
     "data": {
      "text/plain": [
       "1"
      ]
     },
     "execution_count": 38,
     "metadata": {},
     "output_type": "execute_result"
    }
   ],
   "source": [
    "45 % 4"
   ]
  },
  {
   "cell_type": "markdown",
   "id": "4e626fe2",
   "metadata": {
    "id": "4e626fe2"
   },
   "source": [
    "#### Exponents (`**`)"
   ]
  },
  {
   "cell_type": "code",
   "execution_count": 39,
   "id": "7b9b8dec",
   "metadata": {
    "id": "7b9b8dec",
    "outputId": "79e582b3-ec7e-4a82-c6f2-12fe980b6453"
   },
   "outputs": [
    {
     "data": {
      "text/plain": [
       "3125"
      ]
     },
     "execution_count": 39,
     "metadata": {},
     "output_type": "execute_result"
    }
   ],
   "source": [
    "5 ** 5"
   ]
  },
  {
   "cell_type": "markdown",
   "id": "93f2f691",
   "metadata": {
    "id": "93f2f691"
   },
   "source": [
    "### Built in Text Operations"
   ]
  },
  {
   "cell_type": "code",
   "execution_count": 40,
   "id": "4cc40fa7",
   "metadata": {
    "id": "4cc40fa7",
    "outputId": "e5a5899f-9623-4d15-941e-203e22801d60"
   },
   "outputs": [
    {
     "data": {
      "text/plain": [
       "'This is a string'"
      ]
     },
     "execution_count": 40,
     "metadata": {},
     "output_type": "execute_result"
    }
   ],
   "source": [
    "\"This is a string\""
   ]
  },
  {
   "cell_type": "markdown",
   "id": "467e37fe",
   "metadata": {
    "id": "467e37fe"
   },
   "source": [
    "In python, in order for the computer to understand text we either assign it to a value or add quotations to the end. Adding quotations turns the text object into a `string`. Strings are super cool and are the way we deal with text in python. If we don't add the quotations we'll get an error like so..."
   ]
  },
  {
   "cell_type": "code",
   "execution_count": 41,
   "id": "a7d2e5eb",
   "metadata": {
    "id": "a7d2e5eb",
    "outputId": "995e51eb-f4a7-4de2-9c22-dbe67a322ec0"
   },
   "outputs": [
    {
     "ename": "SyntaxError",
     "evalue": "invalid syntax (3162536934.py, line 1)",
     "output_type": "error",
     "traceback": [
      "\u001b[0;36m  Input \u001b[0;32mIn [41]\u001b[0;36m\u001b[0m\n\u001b[0;31m    This isnt a string\u001b[0m\n\u001b[0m         ^\u001b[0m\n\u001b[0;31mSyntaxError\u001b[0m\u001b[0;31m:\u001b[0m invalid syntax\n"
     ]
    }
   ],
   "source": [
    "This isnt a string"
   ]
  },
  {
   "cell_type": "code",
   "execution_count": 42,
   "id": "7303abf1",
   "metadata": {
    "id": "7303abf1",
    "outputId": "207ce9a5-d2b6-46b1-ab00-32b10221e7e4"
   },
   "outputs": [
    {
     "data": {
      "text/plain": [
       "'I love BSP!'"
      ]
     },
     "execution_count": 42,
     "metadata": {},
     "output_type": "execute_result"
    }
   ],
   "source": [
    "\"I\" + ' ' + \"love\" + \" \" + \"BSP!\""
   ]
  },
  {
   "cell_type": "markdown",
   "id": "bd14163c",
   "metadata": {
    "id": "bd14163c"
   },
   "source": [
    "We can also display text using the `print` statement"
   ]
  },
  {
   "cell_type": "code",
   "execution_count": 43,
   "id": "e92a575c",
   "metadata": {
    "id": "e92a575c",
    "outputId": "9f797b65-5d38-408d-ed4d-52dd630d5f85"
   },
   "outputs": [
    {
     "name": "stdout",
     "output_type": "stream",
     "text": [
      "I love BSP\n"
     ]
    }
   ],
   "source": [
    "x = print(\"I love BSP\")\n",
    "x"
   ]
  },
  {
   "cell_type": "code",
   "execution_count": null,
   "id": "7cf5045e",
   "metadata": {
    "id": "7cf5045e",
    "outputId": "a29fcc67-34c3-404b-9973-bbb9612bdf45"
   },
   "outputs": [
    {
     "data": {
      "text/plain": [
       "NoneType"
      ]
     },
     "execution_count": 36,
     "metadata": {},
     "output_type": "execute_result"
    }
   ],
   "source": [
    "type(x)"
   ]
  },
  {
   "cell_type": "code",
   "execution_count": null,
   "id": "f45d52c1",
   "metadata": {
    "id": "f45d52c1",
    "outputId": "258c3410-3844-4410-efa1-e0dca340b4e8"
   },
   "outputs": [
    {
     "ename": "TypeError",
     "evalue": "can only concatenate str (not \"int\") to str",
     "output_type": "error",
     "traceback": [
      "\u001b[0;31m---------------------------------------------------------------------------\u001b[0m",
      "\u001b[0;31mTypeError\u001b[0m                                 Traceback (most recent call last)",
      "Input \u001b[0;32mIn [38]\u001b[0m, in \u001b[0;36m<cell line: 1>\u001b[0;34m()\u001b[0m\n\u001b[0;32m----> 1\u001b[0m \u001b[38;5;28mprint\u001b[39m(\u001b[38;5;124;43m\"\u001b[39;49m\u001b[38;5;124;43mI like\u001b[39;49m\u001b[38;5;124;43m\"\u001b[39;49m\u001b[43m \u001b[49m\u001b[38;5;241;43m+\u001b[39;49m\u001b[43m \u001b[49m\u001b[38;5;241;43m2\u001b[39;49m \u001b[38;5;241m+\u001b[39m \u001b[38;5;124m\"\u001b[39m\u001b[38;5;124meat\u001b[39m\u001b[38;5;124m\"\u001b[39m)\n",
      "\u001b[0;31mTypeError\u001b[0m: can only concatenate str (not \"int\") to str"
     ]
    }
   ],
   "source": [
    "print(\"I like\" + 2 + \"eat\")"
   ]
  },
  {
   "cell_type": "markdown",
   "id": "ab6b2aa2",
   "metadata": {
    "id": "ab6b2aa2"
   },
   "source": [
    "We cannot add `strings` with `ints` so to fix the issue, python allows us to chage `2` into a string using the `str` operator"
   ]
  },
  {
   "cell_type": "code",
   "execution_count": null,
   "id": "81c70145",
   "metadata": {
    "id": "81c70145",
    "outputId": "50f7ff39-8c79-42f8-d0d7-f10b38d53d0d"
   },
   "outputs": [
    {
     "name": "stdout",
     "output_type": "stream",
     "text": [
      "I like 2 eat\n"
     ]
    }
   ],
   "source": [
    "print(\"I like \" + str(2) + \" eat\")"
   ]
  },
  {
   "cell_type": "code",
   "execution_count": null,
   "id": "c8c06d51",
   "metadata": {
    "id": "c8c06d51",
    "outputId": "0e40f3d5-0043-47f1-8f26-774364f6c188"
   },
   "outputs": [
    {
     "data": {
      "text/plain": [
       "'hello'"
      ]
     },
     "execution_count": 44,
     "metadata": {},
     "output_type": "execute_result"
    }
   ],
   "source": [
    "\"Hello\".lower()"
   ]
  },
  {
   "cell_type": "markdown",
   "id": "f306db28-9b32-495c-aaac-35a6d7594fca",
   "metadata": {},
   "source": [
    "### Functions\n",
    "\n",
    "The basic layout of a function is the following: ```def function_name(args...): return ...```\n",
    "\n",
    "Take a look at our classic quadratic function, $f(x) = x^2$. Just like normal functions that we learned in math, python functions follow the form, $f(x_1, x_2, ...)$ where our function is called $f$. But in python we can have multiple inputs, no inputs, and multiple outputs or no outputs, weird right? Here are some examples"
   ]
  },
  {
   "cell_type": "code",
   "execution_count": 53,
   "id": "4255aace-f13f-49ab-9cf2-68fccd3a5ab8",
   "metadata": {},
   "outputs": [],
   "source": [
    "def func():\n",
    "    return \"My name is Isaac\" "
   ]
  },
  {
   "cell_type": "code",
   "execution_count": 57,
   "id": "ddca2fbd-0ba9-49dc-9fea-84b5f665bfb5",
   "metadata": {},
   "outputs": [
    {
     "data": {
      "text/plain": [
       "<function __main__.func()>"
      ]
     },
     "execution_count": 57,
     "metadata": {},
     "output_type": "execute_result"
    }
   ],
   "source": [
    "func"
   ]
  },
  {
   "cell_type": "code",
   "execution_count": 62,
   "id": "1dfa0ac7-28a0-47cb-823f-89f27eb47cc7",
   "metadata": {},
   "outputs": [],
   "source": [
    "def f(x, y):\n",
    "    x = y\n",
    "    \n",
    "    return x ** 2, y ** 2, x**3"
   ]
  },
  {
   "cell_type": "code",
   "execution_count": 71,
   "id": "638f7e42-8883-4dc0-a6c5-c59f1a83deb0",
   "metadata": {},
   "outputs": [
    {
     "data": {
      "text/plain": [
       "(16, 16, 64)"
      ]
     },
     "execution_count": 71,
     "metadata": {},
     "output_type": "execute_result"
    }
   ],
   "source": [
    "f(3,4)"
   ]
  },
  {
   "cell_type": "code",
   "execution_count": 67,
   "id": "fea18841-f21f-49fc-b58a-7802b1d5cb65",
   "metadata": {},
   "outputs": [],
   "source": [
    "def weird():\n",
    "    return"
   ]
  },
  {
   "cell_type": "code",
   "execution_count": 68,
   "id": "7db5197c-3e00-4071-9bdb-ed846dc17754",
   "metadata": {},
   "outputs": [],
   "source": [
    "weird()"
   ]
  },
  {
   "cell_type": "markdown",
   "id": "bd7ce2d2-3d31-4dd7-b3fe-937be9963255",
   "metadata": {},
   "source": [
    "### Variables"
   ]
  },
  {
   "cell_type": "code",
   "execution_count": 72,
   "id": "00f6f0a6-1820-4316-8267-b06b2651b135",
   "metadata": {},
   "outputs": [
    {
     "data": {
      "text/plain": [
       "2"
      ]
     },
     "execution_count": 72,
     "metadata": {},
     "output_type": "execute_result"
    }
   ],
   "source": [
    "x = 2\n",
    "x"
   ]
  },
  {
   "cell_type": "code",
   "execution_count": 73,
   "id": "b6421806",
   "metadata": {},
   "outputs": [
    {
     "data": {
      "text/plain": [
       "'Hello'"
      ]
     },
     "execution_count": 73,
     "metadata": {},
     "output_type": "execute_result"
    }
   ],
   "source": [
    "y = \"Hello\"\n",
    "y"
   ]
  },
  {
   "cell_type": "code",
   "execution_count": 75,
   "id": "c3d2cae4",
   "metadata": {},
   "outputs": [],
   "source": [
    "x = 4"
   ]
  },
  {
   "cell_type": "code",
   "execution_count": 14,
   "id": "c33c464c-bdc3-4bcb-b497-8788db568207",
   "metadata": {},
   "outputs": [
    {
     "name": "stdout",
     "output_type": "stream",
     "text": [
      "1\n"
     ]
    }
   ],
   "source": [
    "x = print(1)\n",
    "x"
   ]
  },
  {
   "cell_type": "code",
   "execution_count": 15,
   "id": "a10fd84a-d63e-4968-ac25-0ea0b1f81a5c",
   "metadata": {},
   "outputs": [
    {
     "data": {
      "text/plain": [
       "NoneType"
      ]
     },
     "execution_count": 15,
     "metadata": {},
     "output_type": "execute_result"
    }
   ],
   "source": [
    "type(x)"
   ]
  },
  {
   "cell_type": "markdown",
   "id": "a2f32c2d",
   "metadata": {
    "id": "a2f32c2d"
   },
   "source": [
    "### TEST QUESTION\n",
    "\n",
    "Build a function that takes in an array and returns the average of that array"
   ]
  },
  {
   "cell_type": "code",
   "execution_count": 78,
   "id": "f4864413",
   "metadata": {},
   "outputs": [
    {
     "data": {
      "text/plain": [
       "array([1, 2, 3])"
      ]
     },
     "execution_count": 78,
     "metadata": {},
     "output_type": "execute_result"
    }
   ],
   "source": [
    "x = make_array(1,2,3)\n",
    "x"
   ]
  },
  {
   "cell_type": "code",
   "execution_count": 91,
   "id": "6d2044e4",
   "metadata": {},
   "outputs": [],
   "source": [
    "y = make_array(4,5,6)"
   ]
  },
  {
   "cell_type": "code",
   "execution_count": 96,
   "id": "53edea4c",
   "metadata": {
    "id": "53edea4c"
   },
   "outputs": [],
   "source": [
    "def average(array):\n",
    "    \n",
    "    return sum(array) / len(array)"
   ]
  },
  {
   "cell_type": "code",
   "execution_count": 95,
   "id": "8a2046a9",
   "metadata": {},
   "outputs": [
    {
     "data": {
      "text/plain": [
       "2.0"
      ]
     },
     "execution_count": 95,
     "metadata": {},
     "output_type": "execute_result"
    }
   ],
   "source": [
    "average(y)"
   ]
  },
  {
   "cell_type": "code",
   "execution_count": null,
   "id": "a07dc225",
   "metadata": {},
   "outputs": [],
   "source": [
    "def f(x):\n",
    "    return x ** 2"
   ]
  },
  {
   "cell_type": "code",
   "execution_count": null,
   "id": "d483723d",
   "metadata": {},
   "outputs": [],
   "source": []
  },
  {
   "cell_type": "code",
   "execution_count": 84,
   "id": "70679fa2",
   "metadata": {},
   "outputs": [
    {
     "data": {
      "text/plain": [
       "3"
      ]
     },
     "execution_count": 84,
     "metadata": {},
     "output_type": "execute_result"
    }
   ],
   "source": [
    "len(x)"
   ]
  },
  {
   "cell_type": "code",
   "execution_count": 85,
   "id": "5a6744c8",
   "metadata": {},
   "outputs": [
    {
     "data": {
      "text/plain": [
       "0.8"
      ]
     },
     "execution_count": 85,
     "metadata": {},
     "output_type": "execute_result"
    }
   ],
   "source": []
  },
  {
   "cell_type": "code",
   "execution_count": 82,
   "id": "eea1b8e1",
   "metadata": {},
   "outputs": [
    {
     "data": {
      "text/plain": [
       "(<function len(obj, /)>, <function sum(iterable, /, start=0)>)"
      ]
     },
     "execution_count": 82,
     "metadata": {},
     "output_type": "execute_result"
    }
   ],
   "source": [
    "len, sum"
   ]
  },
  {
   "cell_type": "markdown",
   "id": "9187ae20",
   "metadata": {
    "id": "9187ae20"
   },
   "source": [
    "### Import Statements\n",
    "\n",
    "Python offers us a variety of basic features as shown above, but the real power of python comes in its libraries. Python is an open source langauge, meaning it is free to use and distribute. Because of these attributes of the language, it allows anybody to contribute to python through libraries. Libraries are free to download and each serve a specific purpose. The main libraries that you all will be using are the **datascience** and **numpy** library. "
   ]
  },
  {
   "cell_type": "code",
   "execution_count": 22,
   "id": "c7d32eaa",
   "metadata": {
    "id": "c7d32eaa"
   },
   "outputs": [],
   "source": [
    "from datascience import *\n",
    "import numpy as np"
   ]
  },
  {
   "cell_type": "markdown",
   "id": "4f84be86",
   "metadata": {
    "id": "4f84be86"
   },
   "source": [
    "The documentation for the datascience library can be found on the Data 8 website [here](http://data8.org/fa22/reference/). This documentation goes through all the different objects and functions in the library. I suggest you bookmark the documentation link because you will be using it a lot :)"
   ]
  },
  {
   "cell_type": "code",
   "execution_count": 7,
   "id": "8fe80911-5ec0-4036-8bed-9ee39e504ccb",
   "metadata": {},
   "outputs": [
    {
     "data": {
      "text/plain": [
       "3"
      ]
     },
     "execution_count": 7,
     "metadata": {},
     "output_type": "execute_result"
    }
   ],
   "source": [
    "arr = make_array(1,2,3)\n",
    "max(arr)"
   ]
  },
  {
   "cell_type": "code",
   "execution_count": 8,
   "id": "8b464b99-34af-4c1e-b3b3-c7a5bf464366",
   "metadata": {},
   "outputs": [
    {
     "data": {
      "text/plain": [
       "2.0"
      ]
     },
     "execution_count": 8,
     "metadata": {},
     "output_type": "execute_result"
    }
   ],
   "source": [
    "np.mean(arr)"
   ]
  },
  {
   "cell_type": "code",
   "execution_count": 9,
   "id": "e095a627-f95c-49fa-ba6a-dbc90df3fef2",
   "metadata": {},
   "outputs": [
    {
     "data": {
      "text/plain": [
       "3"
      ]
     },
     "execution_count": 9,
     "metadata": {},
     "output_type": "execute_result"
    }
   ],
   "source": [
    "len(arr)"
   ]
  }
 ],
 "metadata": {
  "colab": {
   "provenance": []
  },
  "kernelspec": {
   "display_name": "Python 3 (ipykernel)",
   "language": "python",
   "name": "python3"
  },
  "language_info": {
   "codemirror_mode": {
    "name": "ipython",
    "version": 3
   },
   "file_extension": ".py",
   "mimetype": "text/x-python",
   "name": "python",
   "nbconvert_exporter": "python",
   "pygments_lexer": "ipython3",
   "version": "3.10.8"
  }
 },
 "nbformat": 4,
 "nbformat_minor": 5
}
