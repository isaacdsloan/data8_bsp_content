{
 "cells": [
  {
   "attachments": {},
   "cell_type": "markdown",
   "id": "ab81841a-fc35-4e62-8234-4244699f4d51",
   "metadata": {},
   "source": [
    "# Week 10: Bootstrapping, Confidence intervals"
   ]
  },
  {
   "cell_type": "code",
   "execution_count": 1,
   "id": "5d8db596-e157-4d73-b337-025b84c2f5b4",
   "metadata": {},
   "outputs": [],
   "source": [
    "from datascience import *\n",
    "import pandas as pd\n",
    "import matplotlib.pyplot as plt\n",
    "import numpy as np\n",
    "%matplotlib inline"
   ]
  },
  {
   "attachments": {},
   "cell_type": "markdown",
   "id": "5296d491",
   "metadata": {},
   "source": [
    "**Goal:** estimate an unknown parameter where, a parameter is a numerical value associated with a population. This could be anything from trying to answer the question of what is the true mean height of people going to UC Berkeley, or what is the median home price in SF? To answer these questions we usually start off with a representative random sample. From here we can get an estimate of true parameter using the random sample. **Even though we have the estimate how do we know how good our estimate is???**\n",
    "\n",
    "We could just go out and get another bunch of random samples or increase the sample size, but this is often infeasible as the cost is a lot! That is why we really on small representative random samples as they are often incredibly accurate and inexpensive. But our questions still remains, how good is our estimate and how much could it vary based on the random sample we got. We could've gotten a completely random sample and then another estimate so how much do these estimates change?\n",
    "\n",
    "#### Bootstrapping is our savior!\n",
    "\n",
    "To avoid redoing a random sample, we treat the random sample we got at the true population. This is feasible as a random sample is representative of the true population. The trick is that we take a bunch of random samples with replacement from the original random sample and recalculate the parameter we were trying to estimate for each of the new random samples. We do not have to go out and get a new random sample, we can simply randomly sample the sample we already have we does not cost us anything! \n",
    "\n",
    "The steps are as follows (textbook):\n",
    "\n",
    "* **Treat the original sample as if it were the population.**\n",
    "\n",
    "* **Draw from the sample, at random with replacement, the same number of times as the original sample size.**\n",
    "\n"
   ]
  },
  {
   "attachments": {},
   "cell_type": "markdown",
   "id": "86383a76",
   "metadata": {},
   "source": [
    "**What is with replacement versus without and why do we bootstrap using with replacement?**"
   ]
  },
  {
   "cell_type": "markdown",
   "id": "21f07657",
   "metadata": {},
   "source": []
  },
  {
   "attachments": {},
   "cell_type": "markdown",
   "id": "0211afb1",
   "metadata": {},
   "source": [
    "#### Example with Cereal\n",
    "\n",
    "Say we wanted to know what percentage of people at UC Berkeley ate Honey Nut Cheerios for breakfast? For this example we will be using dummy data and for the sake of learning we already know the true percentage which is gonna be 20% or 1/5. We are assuming there are only 5 cereals in total, \"Wheaties\", \"Apple Jacks\", \"Lucky Charms\", \"Honey Nut Cheerios\", \"Fruity Pebbles\", and that people eat only one cereal. So in this hypothetical situation I randomly survey 100 people at UC Berkeley and gather what there favorite cereal was. The datadet is called `favorite_cereal`."
   ]
  },
  {
   "cell_type": "code",
   "execution_count": 31,
   "id": "28b19ab6",
   "metadata": {},
   "outputs": [
    {
     "data": {
      "text/html": [
       "<table border=\"1\" class=\"dataframe\">\n",
       "    <thead>\n",
       "        <tr>\n",
       "            <th>cereal</th>\n",
       "        </tr>\n",
       "    </thead>\n",
       "    <tbody>\n",
       "        <tr>\n",
       "            <td>Fruity Pebbles</td>\n",
       "        </tr>\n",
       "        <tr>\n",
       "            <td>Wheaties      </td>\n",
       "        </tr>\n",
       "        <tr>\n",
       "            <td>Apple Jacks   </td>\n",
       "        </tr>\n",
       "        <tr>\n",
       "            <td>Lucky Charms  </td>\n",
       "        </tr>\n",
       "        <tr>\n",
       "            <td>Wheaties      </td>\n",
       "        </tr>\n",
       "    </tbody>\n",
       "</table>\n",
       "<p>... (95 rows omitted)</p>"
      ],
      "text/plain": [
       "<IPython.core.display.HTML object>"
      ]
     },
     "metadata": {},
     "output_type": "display_data"
    }
   ],
   "source": [
    "np.random.seed(43)\n",
    "\n",
    "top_5 = make_array(\"Wheaties\", \"Apple Jacks\", \"Lucky Charms\", \"Honey Nut Cheerios\", \"Fruity Pebbles\")\n",
    "cereals = np.random.choice(top_5, 100)\n",
    "favorite_cereal = Table().with_column(\"cereal\", cereals)\n",
    "favorite_cereal.show(5)"
   ]
  },
  {
   "attachments": {},
   "cell_type": "markdown",
   "id": "24efe0f2",
   "metadata": {},
   "source": [
    "**Find the parameter estimate from our random sample**"
   ]
  },
  {
   "cell_type": "code",
   "execution_count": 32,
   "id": "967a6dcf",
   "metadata": {},
   "outputs": [
    {
     "data": {
      "text/plain": [
       "26.0"
      ]
     },
     "execution_count": 32,
     "metadata": {},
     "output_type": "execute_result"
    }
   ],
   "source": [
    "..."
   ]
  },
  {
   "attachments": {},
   "cell_type": "markdown",
   "id": "3c5c38db",
   "metadata": {},
   "source": [
    "**Let's do one random bootstap and calculate the resampled parameter**"
   ]
  },
  {
   "cell_type": "code",
   "execution_count": 33,
   "id": "29e0dd8f",
   "metadata": {},
   "outputs": [
    {
     "data": {
      "text/plain": [
       "16.0"
      ]
     },
     "execution_count": 33,
     "metadata": {},
     "output_type": "execute_result"
    }
   ],
   "source": [
    "..."
   ]
  },
  {
   "attachments": {},
   "cell_type": "markdown",
   "id": "e29ded46",
   "metadata": {},
   "source": [
    "**Define a function that does a bootstap sample of our original sample and calculates the parameter for that new sample**"
   ]
  },
  {
   "cell_type": "code",
   "execution_count": 37,
   "id": "63aa2b82",
   "metadata": {},
   "outputs": [],
   "source": [
    "def cheerio_bootstrap_sample(...):\n",
    "    return ..."
   ]
  },
  {
   "attachments": {},
   "cell_type": "markdown",
   "id": "2d0ac172",
   "metadata": {},
   "source": [
    "**Now repeat the bootstap process 5000 times and create a histogram of all the parameters of the bootstaps we calculated**"
   ]
  },
  {
   "cell_type": "code",
   "execution_count": 38,
   "id": "147225f8",
   "metadata": {},
   "outputs": [],
   "source": [
    "num_repetitions = ...\n",
    "bstrap_cheerios = ...\n",
    "for i in ...:\n",
    "    ..."
   ]
  },
  {
   "attachments": {},
   "cell_type": "markdown",
   "id": "56e30d84",
   "metadata": {},
   "source": [
    "### X\\% Confidence Interval \n",
    "\n",
    "After you are finished creating the bootstapped sampled parameters we want to make what we call a confidence interval. In general, an X\\% confidence interval is the middle X% of the values. So if we want an 80% confidence interval for the cheerios we have to find the left and right bounds of the confidence interval. Since we want the middle 80%, that means on both ends of the distrubtion there will be 10% on the tails. Thus our left bound should be at the 10th percentile and the right bound should be at the 90th percentile. So in between the 10th and 90th percentile gives us 80% of the distribution, so that becomes our 80% CI."
   ]
  },
  {
   "attachments": {},
   "cell_type": "markdown",
   "id": "d46e72b1",
   "metadata": {},
   "source": [
    "**Find the left and right bounds for a 95\\% confidence interval**"
   ]
  },
  {
   "cell_type": "code",
   "execution_count": 48,
   "id": "746e479d",
   "metadata": {},
   "outputs": [],
   "source": [
    "left = ...\n",
    "right = ..."
   ]
  },
  {
   "cell_type": "code",
   "execution_count": 47,
   "id": "57239648",
   "metadata": {},
   "outputs": [
    {
     "data": {
      "image/png": "[encoded data removed]",
      "text/plain": [
       "<Figure size 600x400 with 1 Axes>"
      ]
     },
     "metadata": {},
     "output_type": "display_data"
    }
   ],
   "source": [
    "cheerio_table = Table().with_column(\"percent cheerio\", bstrap_cheerios)\n",
    "cheerio_table.hist(\"percent cheerio\")\n",
    "\n",
    "\n",
    "plt.plot([left, right], [0, 0], color='yellow', lw=3, zorder=1)\n",
    "plt.scatter(20, 0, color=\"blue\", s=50, zorder=6);"
   ]
  },
  {
   "attachments": {},
   "cell_type": "markdown",
   "id": "4c77ad80",
   "metadata": {},
   "source": [
    "Looking at the graph we can see that our true parameter which is the true percentage of people who eat Cheerios at Berkeley, is within our 95% confidence interval. We say that we are 95% confident that the process results in a good interval where \"good\" means the interval contains our true parameter. Our interval of estimates is called a 95% confidence interval for the parameter, and 95% is called the confidence level of the interval. "
   ]
  }
 ],
 "metadata": {
  "kernelspec": {
   "display_name": "base",
   "language": "python",
   "name": "python3"
  },
  "language_info": {
   "codemirror_mode": {
    "name": "ipython",
    "version": 3
   },
   "file_extension": ".py",
   "mimetype": "text/x-python",
   "name": "python",
   "nbconvert_exporter": "python",
   "pygments_lexer": "ipython3",
   "version": "3.10.9"
  },
  "vscode": {
   "interpreter": {
    "hash": "8728410c3bce4b394dee6feb19f07d98a83c71158217e159463bb2ea464be5ae"
   }
  }
 },
 "nbformat": 4,
 "nbformat_minor": 5
}
