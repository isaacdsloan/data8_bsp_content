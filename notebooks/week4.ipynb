{
 "cells": [
  {
   "attachments": {},
   "cell_type": "markdown",
   "id": "ab81841a-fc35-4e62-8234-4244699f4d51",
   "metadata": {},
   "source": [
    "# Group, Pivot, Join"
   ]
  },
  {
   "cell_type": "code",
   "execution_count": 1,
   "id": "5d8db596-e157-4d73-b337-025b84c2f5b4",
   "metadata": {},
   "outputs": [],
   "source": [
    "from datetime import datetime\n",
    "from datascience import *\n",
    "import pandas as pd\n",
    "import matplotlib.pyplot as plt\n",
    "%matplotlib inline"
   ]
  },
  {
   "cell_type": "markdown",
   "id": "7888078f-6138-4edf-a0a9-70864f14ba58",
   "metadata": {},
   "source": [
    "### From Last Time"
   ]
  },
  {
   "cell_type": "code",
   "execution_count": 2,
   "id": "d00a662e-9168-480a-a154-080e560c6a29",
   "metadata": {},
   "outputs": [],
   "source": [
    "def datetime_parser(string):\n",
    "    datetime_object = datetime.strptime(string, '%m/%d/%y')\n",
    "    return datetime_object"
   ]
  },
  {
   "cell_type": "code",
   "execution_count": 3,
   "id": "395f1a56-d2a1-4c3b-8693-60e6e6b890f5",
   "metadata": {},
   "outputs": [],
   "source": [
    "covid_us = Table().read_table(\"../data/covid_us.txt\")\n",
    "covid_us = covid_us.with_column(\"New Date\", covid_us.apply(datetime_parser, \"Date\"))"
   ]
  },
  {
   "attachments": {},
   "cell_type": "markdown",
   "id": "cb137589",
   "metadata": {},
   "source": [
    "### Groups\n",
    "\n",
    "**Find the county in California with the highest death totals over the entire time period we have access to.**\n",
    "\n",
    "\n",
    "**Hint: use `group`**"
   ]
  },
  {
   "cell_type": "code",
   "execution_count": 4,
   "id": "999c7cf4",
   "metadata": {},
   "outputs": [
    {
     "data": {
      "text/plain": [
       "Ellipsis"
      ]
     },
     "execution_count": 4,
     "metadata": {},
     "output_type": "execute_result"
    }
   ],
   "source": [
    "covid_california = ...\n",
    "grouped_covid_california = ...\n",
    "..."
   ]
  },
  {
   "attachments": {},
   "cell_type": "markdown",
   "id": "1ac4bbcb",
   "metadata": {},
   "source": [
    "**Find the county in the entire United States with the highest confirmed cases total over the entire time period we have access to.**"
   ]
  },
  {
   "cell_type": "code",
   "execution_count": 5,
   "id": "e0bc3ba1",
   "metadata": {},
   "outputs": [],
   "source": [
    "grouped_states = ...\n",
    "..."
   ]
  },
  {
   "attachments": {},
   "cell_type": "markdown",
   "id": "158419db",
   "metadata": {},
   "source": [
    "### Joins"
   ]
  },
  {
   "cell_type": "code",
   "execution_count": 6,
   "id": "ad7619fc",
   "metadata": {},
   "outputs": [],
   "source": [
    "cereal = Table().read_table(\"../data/cereal.csv\")\n",
    "cereal_companies = Table().with_columns(\"Manufacturer\", make_array(\"A\", \"G\", \"K\", \"N\", \"P\", \"Q\", \"R\"),\n",
    "                                    \"Name\", make_array(\"American Home Food Products\", \"General Mills\", \"Kellogs\", \"Nabisco\", \"Post\", \"Quaker Oats\", \"Ralston Purina\"))\n",
    "\n",
    "hot_cold = Table().with_columns(\"Cereal Type\", make_array(\"H\", \"C\"),\n",
    "                                    \"Cereal Type Name\", make_array(\"Hot\", \"Cold\"))\n"
   ]
  },
  {
   "attachments": {},
   "cell_type": "markdown",
   "id": "cea24077",
   "metadata": {},
   "source": [
    "**I want the full names of the cereal manufactures added as a column to cereal. How can I get those names added?**"
   ]
  },
  {
   "cell_type": "code",
   "execution_count": 7,
   "id": "782af1d0",
   "metadata": {},
   "outputs": [
    {
     "data": {
      "text/plain": [
       "Ellipsis"
      ]
     },
     "execution_count": 7,
     "metadata": {},
     "output_type": "execute_result"
    }
   ],
   "source": [
    "cereal = ...\n",
    "cereal"
   ]
  },
  {
   "attachments": {},
   "cell_type": "markdown",
   "id": "fe0f79a5",
   "metadata": {},
   "source": [
    "`tblA.join(colA, tblB, colB)`\n",
    "\n",
    "`tblA.join(colA, tblB)`\n",
    "\n"
   ]
  },
  {
   "cell_type": "markdown",
   "id": "ec7bbe43",
   "metadata": {},
   "source": [
    "**I also want the full names of the cereal types added as a column to cereal. How can I get those names added?**"
   ]
  },
  {
   "cell_type": "code",
   "execution_count": 8,
   "id": "d0a6b59f",
   "metadata": {},
   "outputs": [
    {
     "data": {
      "text/plain": [
       "Ellipsis"
      ]
     },
     "execution_count": 8,
     "metadata": {},
     "output_type": "execute_result"
    }
   ],
   "source": [
    "cereal = ...\n",
    "cereal"
   ]
  },
  {
   "attachments": {},
   "cell_type": "markdown",
   "id": "1cd6ba74-d515-4019-a685-28bdc1b70d6a",
   "metadata": {},
   "source": [
    "### Pivots\n",
    "\n",
    "* Groups according to two columns\n",
    "Produces a grid of counts or aggregated values\n",
    "*  Two required arguments:\n",
    "    * First: variable that forms column labels of the grid\n",
    "    * Second: variable that forms row labels of the grid\n",
    "    * Two optional arguments (include both or neither)\n",
    "        \n",
    "        * values=’column_to_aggregate’\n",
    "        \n",
    "        * collect=function_to_aggregate_with\n"
   ]
  },
  {
   "attachments": {},
   "cell_type": "markdown",
   "id": "dae8a65d",
   "metadata": {},
   "source": [
    "**Create a table with the cereal type name as the rows and the Manufacturer's name as the columns. In the grid, you should be seeing the number of cereals that falls within the Name + type combination**"
   ]
  },
  {
   "cell_type": "code",
   "execution_count": 9,
   "id": "3360b56e",
   "metadata": {},
   "outputs": [
    {
     "data": {
      "text/plain": [
       "Ellipsis"
      ]
     },
     "execution_count": 9,
     "metadata": {},
     "output_type": "execute_result"
    }
   ],
   "source": [
    "..."
   ]
  },
  {
   "attachments": {},
   "cell_type": "markdown",
   "id": "02649442",
   "metadata": {},
   "source": [
    "**Create a table with the cereal type as the columns and the Manufacturer's name as the rows. In the grid, you should be seeing the total amount protein that falls within the Type + Name combination**"
   ]
  },
  {
   "cell_type": "code",
   "execution_count": 10,
   "id": "2f083619",
   "metadata": {},
   "outputs": [
    {
     "data": {
      "text/plain": [
       "Ellipsis"
      ]
     },
     "execution_count": 10,
     "metadata": {},
     "output_type": "execute_result"
    }
   ],
   "source": [
    "..."
   ]
  },
  {
   "attachments": {},
   "cell_type": "markdown",
   "id": "fe57f670",
   "metadata": {},
   "source": [
    "### When to Group:\n",
    "* aggregates of one categorical variable\n",
    "* aggregates of many variables\n",
    "* Multiple outputs (aggregate columns) \n",
    "\n",
    "### When to Pivot:\n",
    "* Aggregates of exactly two variables\n",
    "* Few unique values for column variable\n",
    "* Interested in every combination of values\n"
   ]
  }
 ],
 "metadata": {
  "kernelspec": {
   "display_name": "base",
   "language": "python",
   "name": "python3"
  },
  "language_info": {
   "codemirror_mode": {
    "name": "ipython",
    "version": 3
   },
   "file_extension": ".py",
   "mimetype": "text/x-python",
   "name": "python",
   "nbconvert_exporter": "python",
   "pygments_lexer": "ipython3",
   "version": "3.10.8"
  },
  "vscode": {
   "interpreter": {
    "hash": "8728410c3bce4b394dee6feb19f07d98a83c71158217e159463bb2ea464be5ae"
   }
  }
 },
 "nbformat": 4,
 "nbformat_minor": 5
}
