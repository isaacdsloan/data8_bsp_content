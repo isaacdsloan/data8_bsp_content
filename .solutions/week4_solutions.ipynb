{
 "cells": [
  {
   "attachments": {},
   "cell_type": "markdown",
   "id": "ab81841a-fc35-4e62-8234-4244699f4d51",
   "metadata": {},
   "source": [
    "# Group, Pivot, Join"
   ]
  },
  {
   "cell_type": "code",
   "execution_count": 2,
   "id": "5d8db596-e157-4d73-b337-025b84c2f5b4",
   "metadata": {},
   "outputs": [],
   "source": [
    "from datetime import datetime\n",
    "from datascience import *\n",
    "import pandas as pd\n",
    "import matplotlib.pyplot as plt\n",
    "%matplotlib inline"
   ]
  },
  {
   "cell_type": "markdown",
   "id": "7888078f-6138-4edf-a0a9-70864f14ba58",
   "metadata": {},
   "source": [
    "### From Last Time"
   ]
  },
  {
   "cell_type": "code",
   "execution_count": 3,
   "id": "d00a662e-9168-480a-a154-080e560c6a29",
   "metadata": {},
   "outputs": [],
   "source": [
    "def datetime_parser(string):\n",
    "    datetime_object = datetime.strptime(string, '%m/%d/%y')\n",
    "    return datetime_object"
   ]
  },
  {
   "cell_type": "code",
   "execution_count": 4,
   "id": "395f1a56-d2a1-4c3b-8693-60e6e6b890f5",
   "metadata": {},
   "outputs": [],
   "source": [
    "covid_us = Table().read_table(\"../data/covid_us.txt\")\n",
    "covid_us = covid_us.with_column(\"New Date\", covid_us.apply(datetime_parser, \"Date\"))"
   ]
  },
  {
   "attachments": {},
   "cell_type": "markdown",
   "id": "cb137589",
   "metadata": {},
   "source": [
    "### Groups\n",
    "\n",
    "**Find the county in California with the highest death totals over the entire time period we have access to.**\n",
    "\n",
    "\n",
    "**Hint: use `group`**"
   ]
  },
  {
   "cell_type": "code",
   "execution_count": 5,
   "id": "999c7cf4",
   "metadata": {},
   "outputs": [
    {
     "data": {
      "text/plain": [
       "'Los Angeles'"
      ]
     },
     "execution_count": 5,
     "metadata": {},
     "output_type": "execute_result"
    }
   ],
   "source": [
    "covid_california = covid_us.where(\"Province_State\", \"California\")\n",
    "grouped_covid_california = covid_california.group(\"Admin2\", sum)\n",
    "grouped_covid_california.sort(\"Deaths sum\", descending=True).column(\"Admin2\").item(0)"
   ]
  },
  {
   "attachments": {},
   "cell_type": "markdown",
   "id": "1ac4bbcb",
   "metadata": {},
   "source": [
    "**Find the county in the entire United States with the highest confirmed cases total over the entire time period we have access to.**"
   ]
  },
  {
   "cell_type": "code",
   "execution_count": 6,
   "id": "e0bc3ba1",
   "metadata": {},
   "outputs": [
    {
     "data": {
      "text/plain": [
       "'New York'"
      ]
     },
     "execution_count": 6,
     "metadata": {},
     "output_type": "execute_result"
    }
   ],
   "source": [
    "grouped_states = covid_us.group(\"Province_State\", sum)\n",
    "grouped_states.sort(\"Confirmed sum\", descending=True).column(\"Province_State\").item(0)"
   ]
  },
  {
   "attachments": {},
   "cell_type": "markdown",
   "id": "158419db",
   "metadata": {},
   "source": [
    "### Joins"
   ]
  },
  {
   "cell_type": "code",
   "execution_count": 27,
   "id": "ad7619fc",
   "metadata": {},
   "outputs": [
    {
     "data": {
      "text/html": [
       "<table border=\"1\" class=\"dataframe\">\n",
       "    <thead>\n",
       "        <tr>\n",
       "            <th>Cereal Type</th> <th>Cereal Type Name</th>\n",
       "        </tr>\n",
       "    </thead>\n",
       "    <tbody>\n",
       "        <tr>\n",
       "            <td>H          </td> <td>Hot             </td>\n",
       "        </tr>\n",
       "        <tr>\n",
       "            <td>C          </td> <td>Cold            </td>\n",
       "        </tr>\n",
       "    </tbody>\n",
       "</table>"
      ],
      "text/plain": [
       "Cereal Type | Cereal Type Name\n",
       "H           | Hot\n",
       "C           | Cold"
      ]
     },
     "execution_count": 27,
     "metadata": {},
     "output_type": "execute_result"
    }
   ],
   "source": [
    "cereal = Table().read_table(\"../data/cereal.csv\")\n",
    "cereal_companies = Table().with_columns(\"Manufacturer\", make_array(\"A\", \"G\", \"K\", \"N\", \"P\", \"Q\", \"R\"),\n",
    "                                    \"Name\", make_array(\"American Home Food Products\", \"General Mills\", \"Kellogs\", \"Nabisco\", \"Post\", \"Quaker Oats\", \"Ralston Purina\"))\n",
    "\n",
    "hot_cold = Table().with_columns(\"Cereal Type\", make_array(\"H\", \"C\"),\n",
    "                                    \"Cereal Type Name\", make_array(\"Hot\", \"Cold\"))\n"
   ]
  },
  {
   "attachments": {},
   "cell_type": "markdown",
   "id": "cea24077",
   "metadata": {},
   "source": [
    "**I want the full names of the cereal manufactures added as a column to cereal. How can I get those names added?**"
   ]
  },
  {
   "cell_type": "code",
   "execution_count": 28,
   "id": "782af1d0",
   "metadata": {},
   "outputs": [
    {
     "data": {
      "text/html": [
       "<table border=\"1\" class=\"dataframe\">\n",
       "    <thead>\n",
       "        <tr>\n",
       "            <th>mfr</th> <th>name</th> <th>type</th> <th>calories</th> <th>protein</th> <th>fat</th> <th>sodium</th> <th>fiber</th> <th>carbo</th> <th>sugars</th> <th>potass</th> <th>vitamins</th> <th>shelf</th> <th>weight</th> <th>cups</th> <th>rating</th> <th>Name</th>\n",
       "        </tr>\n",
       "    </thead>\n",
       "    <tbody>\n",
       "        <tr>\n",
       "            <td>A   </td> <td>Maypo                  </td> <td>H   </td> <td>100     </td> <td>4      </td> <td>1   </td> <td>0     </td> <td>0    </td> <td>16   </td> <td>3     </td> <td>95    </td> <td>25      </td> <td>2    </td> <td>1     </td> <td>1   </td> <td>54.8509</td> <td>American Home Food Products</td>\n",
       "        </tr>\n",
       "        <tr>\n",
       "            <td>G   </td> <td>Apple Cinnamon Cheerios</td> <td>C   </td> <td>110     </td> <td>2      </td> <td>2   </td> <td>180   </td> <td>1.5  </td> <td>10.5 </td> <td>10    </td> <td>70    </td> <td>25      </td> <td>1    </td> <td>1     </td> <td>0.75</td> <td>29.5095</td> <td>General Mills              </td>\n",
       "        </tr>\n",
       "        <tr>\n",
       "            <td>G   </td> <td>Basic 4                </td> <td>C   </td> <td>130     </td> <td>3      </td> <td>2   </td> <td>210   </td> <td>2    </td> <td>18   </td> <td>8     </td> <td>100   </td> <td>25      </td> <td>3    </td> <td>1.33  </td> <td>0.75</td> <td>37.0386</td> <td>General Mills              </td>\n",
       "        </tr>\n",
       "        <tr>\n",
       "            <td>G   </td> <td>Cheerios               </td> <td>C   </td> <td>110     </td> <td>6      </td> <td>2   </td> <td>290   </td> <td>2    </td> <td>17   </td> <td>1     </td> <td>105   </td> <td>25      </td> <td>1    </td> <td>1     </td> <td>1.25</td> <td>50.765 </td> <td>General Mills              </td>\n",
       "        </tr>\n",
       "        <tr>\n",
       "            <td>G   </td> <td>Cinnamon Toast Crunch  </td> <td>C   </td> <td>120     </td> <td>1      </td> <td>3   </td> <td>210   </td> <td>0    </td> <td>13   </td> <td>9     </td> <td>45    </td> <td>25      </td> <td>2    </td> <td>1     </td> <td>0.75</td> <td>19.8236</td> <td>General Mills              </td>\n",
       "        </tr>\n",
       "        <tr>\n",
       "            <td>G   </td> <td>Clusters               </td> <td>C   </td> <td>110     </td> <td>3      </td> <td>2   </td> <td>140   </td> <td>2    </td> <td>13   </td> <td>7     </td> <td>105   </td> <td>25      </td> <td>3    </td> <td>1     </td> <td>0.5 </td> <td>40.4002</td> <td>General Mills              </td>\n",
       "        </tr>\n",
       "        <tr>\n",
       "            <td>G   </td> <td>Cocoa Puffs            </td> <td>C   </td> <td>110     </td> <td>1      </td> <td>1   </td> <td>180   </td> <td>0    </td> <td>12   </td> <td>13    </td> <td>55    </td> <td>25      </td> <td>2    </td> <td>1     </td> <td>1   </td> <td>22.7364</td> <td>General Mills              </td>\n",
       "        </tr>\n",
       "        <tr>\n",
       "            <td>G   </td> <td>Count Chocula          </td> <td>C   </td> <td>110     </td> <td>1      </td> <td>1   </td> <td>180   </td> <td>0    </td> <td>12   </td> <td>13    </td> <td>65    </td> <td>25      </td> <td>2    </td> <td>1     </td> <td>1   </td> <td>22.3965</td> <td>General Mills              </td>\n",
       "        </tr>\n",
       "        <tr>\n",
       "            <td>G   </td> <td>Crispy Wheat & Raisins </td> <td>C   </td> <td>100     </td> <td>2      </td> <td>1   </td> <td>140   </td> <td>2    </td> <td>11   </td> <td>10    </td> <td>120   </td> <td>25      </td> <td>3    </td> <td>1     </td> <td>0.75</td> <td>36.1762</td> <td>General Mills              </td>\n",
       "        </tr>\n",
       "        <tr>\n",
       "            <td>G   </td> <td>Golden Grahams         </td> <td>C   </td> <td>110     </td> <td>1      </td> <td>1   </td> <td>280   </td> <td>0    </td> <td>15   </td> <td>9     </td> <td>45    </td> <td>25      </td> <td>2    </td> <td>1     </td> <td>0.75</td> <td>23.804 </td> <td>General Mills              </td>\n",
       "        </tr>\n",
       "    </tbody>\n",
       "</table>\n",
       "<p>... (67 rows omitted)</p>"
      ],
      "text/plain": [
       "mfr  | name                    | type | calories | protein | fat  | sodium | fiber | carbo | sugars | potass | vitamins | shelf | weight | cups | rating  | Name\n",
       "A    | Maypo                   | H    | 100      | 4       | 1    | 0      | 0     | 16    | 3      | 95     | 25       | 2     | 1      | 1    | 54.8509 | American Home Food Products\n",
       "G    | Apple Cinnamon Cheerios | C    | 110      | 2       | 2    | 180    | 1.5   | 10.5  | 10     | 70     | 25       | 1     | 1      | 0.75 | 29.5095 | General Mills\n",
       "G    | Basic 4                 | C    | 130      | 3       | 2    | 210    | 2     | 18    | 8      | 100    | 25       | 3     | 1.33   | 0.75 | 37.0386 | General Mills\n",
       "G    | Cheerios                | C    | 110      | 6       | 2    | 290    | 2     | 17    | 1      | 105    | 25       | 1     | 1      | 1.25 | 50.765  | General Mills\n",
       "G    | Cinnamon Toast Crunch   | C    | 120      | 1       | 3    | 210    | 0     | 13    | 9      | 45     | 25       | 2     | 1      | 0.75 | 19.8236 | General Mills\n",
       "G    | Clusters                | C    | 110      | 3       | 2    | 140    | 2     | 13    | 7      | 105    | 25       | 3     | 1      | 0.5  | 40.4002 | General Mills\n",
       "G    | Cocoa Puffs             | C    | 110      | 1       | 1    | 180    | 0     | 12    | 13     | 55     | 25       | 2     | 1      | 1    | 22.7364 | General Mills\n",
       "G    | Count Chocula           | C    | 110      | 1       | 1    | 180    | 0     | 12    | 13     | 65     | 25       | 2     | 1      | 1    | 22.3965 | General Mills\n",
       "G    | Crispy Wheat & Raisins  | C    | 100      | 2       | 1    | 140    | 2     | 11    | 10     | 120    | 25       | 3     | 1      | 0.75 | 36.1762 | General Mills\n",
       "G    | Golden Grahams          | C    | 110      | 1       | 1    | 280    | 0     | 15    | 9      | 45     | 25       | 2     | 1      | 0.75 | 23.804  | General Mills\n",
       "... (67 rows omitted)"
      ]
     },
     "execution_count": 28,
     "metadata": {},
     "output_type": "execute_result"
    }
   ],
   "source": [
    "cereal = cereal.join(\"mfr\", cereal_companies, \"Manufacturer\")\n",
    "cereal"
   ]
  },
  {
   "attachments": {},
   "cell_type": "markdown",
   "id": "fe0f79a5",
   "metadata": {},
   "source": [
    "`tblA.join(colA, tblB, colB)`\n",
    "\n",
    "`tblA.join(colA, tblB)`\n",
    "\n"
   ]
  },
  {
   "cell_type": "markdown",
   "id": "ec7bbe43",
   "metadata": {},
   "source": [
    "**I also want the full names of the cereal types added as a column to cereal. How can I get those names added?**"
   ]
  },
  {
   "cell_type": "code",
   "execution_count": 29,
   "id": "d0a6b59f",
   "metadata": {},
   "outputs": [
    {
     "data": {
      "text/html": [
       "<table border=\"1\" class=\"dataframe\">\n",
       "    <thead>\n",
       "        <tr>\n",
       "            <th>type</th> <th>mfr</th> <th>name</th> <th>calories</th> <th>protein</th> <th>fat</th> <th>sodium</th> <th>fiber</th> <th>carbo</th> <th>sugars</th> <th>potass</th> <th>vitamins</th> <th>shelf</th> <th>weight</th> <th>cups</th> <th>rating</th> <th>Name</th> <th>Cereal Type Name</th>\n",
       "        </tr>\n",
       "    </thead>\n",
       "    <tbody>\n",
       "        <tr>\n",
       "            <td>C   </td> <td>G   </td> <td>Apple Cinnamon Cheerios</td> <td>110     </td> <td>2      </td> <td>2   </td> <td>180   </td> <td>1.5  </td> <td>10.5 </td> <td>10    </td> <td>70    </td> <td>25      </td> <td>1    </td> <td>1     </td> <td>0.75</td> <td>29.5095</td> <td>General Mills</td> <td>Cold            </td>\n",
       "        </tr>\n",
       "        <tr>\n",
       "            <td>C   </td> <td>G   </td> <td>Basic 4                </td> <td>130     </td> <td>3      </td> <td>2   </td> <td>210   </td> <td>2    </td> <td>18   </td> <td>8     </td> <td>100   </td> <td>25      </td> <td>3    </td> <td>1.33  </td> <td>0.75</td> <td>37.0386</td> <td>General Mills</td> <td>Cold            </td>\n",
       "        </tr>\n",
       "        <tr>\n",
       "            <td>C   </td> <td>G   </td> <td>Cheerios               </td> <td>110     </td> <td>6      </td> <td>2   </td> <td>290   </td> <td>2    </td> <td>17   </td> <td>1     </td> <td>105   </td> <td>25      </td> <td>1    </td> <td>1     </td> <td>1.25</td> <td>50.765 </td> <td>General Mills</td> <td>Cold            </td>\n",
       "        </tr>\n",
       "        <tr>\n",
       "            <td>C   </td> <td>G   </td> <td>Cinnamon Toast Crunch  </td> <td>120     </td> <td>1      </td> <td>3   </td> <td>210   </td> <td>0    </td> <td>13   </td> <td>9     </td> <td>45    </td> <td>25      </td> <td>2    </td> <td>1     </td> <td>0.75</td> <td>19.8236</td> <td>General Mills</td> <td>Cold            </td>\n",
       "        </tr>\n",
       "        <tr>\n",
       "            <td>C   </td> <td>G   </td> <td>Clusters               </td> <td>110     </td> <td>3      </td> <td>2   </td> <td>140   </td> <td>2    </td> <td>13   </td> <td>7     </td> <td>105   </td> <td>25      </td> <td>3    </td> <td>1     </td> <td>0.5 </td> <td>40.4002</td> <td>General Mills</td> <td>Cold            </td>\n",
       "        </tr>\n",
       "        <tr>\n",
       "            <td>C   </td> <td>G   </td> <td>Cocoa Puffs            </td> <td>110     </td> <td>1      </td> <td>1   </td> <td>180   </td> <td>0    </td> <td>12   </td> <td>13    </td> <td>55    </td> <td>25      </td> <td>2    </td> <td>1     </td> <td>1   </td> <td>22.7364</td> <td>General Mills</td> <td>Cold            </td>\n",
       "        </tr>\n",
       "        <tr>\n",
       "            <td>C   </td> <td>G   </td> <td>Count Chocula          </td> <td>110     </td> <td>1      </td> <td>1   </td> <td>180   </td> <td>0    </td> <td>12   </td> <td>13    </td> <td>65    </td> <td>25      </td> <td>2    </td> <td>1     </td> <td>1   </td> <td>22.3965</td> <td>General Mills</td> <td>Cold            </td>\n",
       "        </tr>\n",
       "        <tr>\n",
       "            <td>C   </td> <td>G   </td> <td>Crispy Wheat & Raisins </td> <td>100     </td> <td>2      </td> <td>1   </td> <td>140   </td> <td>2    </td> <td>11   </td> <td>10    </td> <td>120   </td> <td>25      </td> <td>3    </td> <td>1     </td> <td>0.75</td> <td>36.1762</td> <td>General Mills</td> <td>Cold            </td>\n",
       "        </tr>\n",
       "        <tr>\n",
       "            <td>C   </td> <td>G   </td> <td>Golden Grahams         </td> <td>110     </td> <td>1      </td> <td>1   </td> <td>280   </td> <td>0    </td> <td>15   </td> <td>9     </td> <td>45    </td> <td>25      </td> <td>2    </td> <td>1     </td> <td>0.75</td> <td>23.804 </td> <td>General Mills</td> <td>Cold            </td>\n",
       "        </tr>\n",
       "        <tr>\n",
       "            <td>C   </td> <td>G   </td> <td>Honey Nut Cheerios     </td> <td>110     </td> <td>3      </td> <td>1   </td> <td>250   </td> <td>1.5  </td> <td>11.5 </td> <td>10    </td> <td>90    </td> <td>25      </td> <td>1    </td> <td>1     </td> <td>0.75</td> <td>31.0722</td> <td>General Mills</td> <td>Cold            </td>\n",
       "        </tr>\n",
       "    </tbody>\n",
       "</table>\n",
       "<p>... (67 rows omitted)</p>"
      ],
      "text/plain": [
       "type | mfr  | name                    | calories | protein | fat  | sodium | fiber | carbo | sugars | potass | vitamins | shelf | weight | cups | rating  | Name          | Cereal Type Name\n",
       "C    | G    | Apple Cinnamon Cheerios | 110      | 2       | 2    | 180    | 1.5   | 10.5  | 10     | 70     | 25       | 1     | 1      | 0.75 | 29.5095 | General Mills | Cold\n",
       "C    | G    | Basic 4                 | 130      | 3       | 2    | 210    | 2     | 18    | 8      | 100    | 25       | 3     | 1.33   | 0.75 | 37.0386 | General Mills | Cold\n",
       "C    | G    | Cheerios                | 110      | 6       | 2    | 290    | 2     | 17    | 1      | 105    | 25       | 1     | 1      | 1.25 | 50.765  | General Mills | Cold\n",
       "C    | G    | Cinnamon Toast Crunch   | 120      | 1       | 3    | 210    | 0     | 13    | 9      | 45     | 25       | 2     | 1      | 0.75 | 19.8236 | General Mills | Cold\n",
       "C    | G    | Clusters                | 110      | 3       | 2    | 140    | 2     | 13    | 7      | 105    | 25       | 3     | 1      | 0.5  | 40.4002 | General Mills | Cold\n",
       "C    | G    | Cocoa Puffs             | 110      | 1       | 1    | 180    | 0     | 12    | 13     | 55     | 25       | 2     | 1      | 1    | 22.7364 | General Mills | Cold\n",
       "C    | G    | Count Chocula           | 110      | 1       | 1    | 180    | 0     | 12    | 13     | 65     | 25       | 2     | 1      | 1    | 22.3965 | General Mills | Cold\n",
       "C    | G    | Crispy Wheat & Raisins  | 100      | 2       | 1    | 140    | 2     | 11    | 10     | 120    | 25       | 3     | 1      | 0.75 | 36.1762 | General Mills | Cold\n",
       "C    | G    | Golden Grahams          | 110      | 1       | 1    | 280    | 0     | 15    | 9      | 45     | 25       | 2     | 1      | 0.75 | 23.804  | General Mills | Cold\n",
       "C    | G    | Honey Nut Cheerios      | 110      | 3       | 1    | 250    | 1.5   | 11.5  | 10     | 90     | 25       | 1     | 1      | 0.75 | 31.0722 | General Mills | Cold\n",
       "... (67 rows omitted)"
      ]
     },
     "execution_count": 29,
     "metadata": {},
     "output_type": "execute_result"
    }
   ],
   "source": [
    "cereal = cereal.join(\"type\", hot_cold, \"Cereal Type\")\n",
    "cereal"
   ]
  },
  {
   "attachments": {},
   "cell_type": "markdown",
   "id": "1cd6ba74-d515-4019-a685-28bdc1b70d6a",
   "metadata": {},
   "source": [
    "### Pivots\n",
    "\n",
    "* Groups according to two columns\n",
    "Produces a grid of counts or aggregated values\n",
    "*  Two required arguments:\n",
    "    * First: variable that forms column labels of the grid\n",
    "    * Second: variable that forms row labels of the grid\n",
    "    * Two optional arguments (include both or neither)\n",
    "        \n",
    "        * values=’column_to_aggregate’\n",
    "        \n",
    "        * collect=function_to_aggregate_with\n"
   ]
  },
  {
   "attachments": {},
   "cell_type": "markdown",
   "id": "dae8a65d",
   "metadata": {},
   "source": [
    "**Create a table with the cereal type name as the rows and the Manufacturer's name as the columns. In the grid, you should be seeing the number of cereals that falls within the Name + type combination**"
   ]
  },
  {
   "cell_type": "code",
   "execution_count": 32,
   "id": "3360b56e",
   "metadata": {},
   "outputs": [
    {
     "data": {
      "text/html": [
       "<table border=\"1\" class=\"dataframe\">\n",
       "    <thead>\n",
       "        <tr>\n",
       "            <th>Cereal Type Name</th> <th>American Home Food Products</th> <th>General Mills</th> <th>Kellogs</th> <th>Nabisco</th> <th>Post</th> <th>Quaker Oats</th> <th>Ralston Purina</th>\n",
       "        </tr>\n",
       "    </thead>\n",
       "    <tbody>\n",
       "        <tr>\n",
       "            <td>Cold            </td> <td>0                          </td> <td>22           </td> <td>23     </td> <td>5      </td> <td>9   </td> <td>7          </td> <td>8             </td>\n",
       "        </tr>\n",
       "        <tr>\n",
       "            <td>Hot             </td> <td>1                          </td> <td>0            </td> <td>0      </td> <td>1      </td> <td>0   </td> <td>1          </td> <td>0             </td>\n",
       "        </tr>\n",
       "    </tbody>\n",
       "</table>"
      ],
      "text/plain": [
       "Cereal Type Name | American Home Food Products | General Mills | Kellogs | Nabisco | Post | Quaker Oats | Ralston Purina\n",
       "Cold             | 0                           | 22            | 23      | 5       | 9    | 7           | 8\n",
       "Hot              | 1                           | 0             | 0       | 1       | 0    | 1           | 0"
      ]
     },
     "execution_count": 32,
     "metadata": {},
     "output_type": "execute_result"
    }
   ],
   "source": [
    "cereal.pivot(\"Name\", \"Cereal Type Name\")"
   ]
  },
  {
   "attachments": {},
   "cell_type": "markdown",
   "id": "02649442",
   "metadata": {},
   "source": [
    "**Create a table with the cereal type as the columns and the Manufacturer's name as the rows. In the grid, you should be seeing the total amount protein that falls within the Type + Name combination**"
   ]
  },
  {
   "cell_type": "code",
   "execution_count": 31,
   "id": "2f083619",
   "metadata": {},
   "outputs": [
    {
     "data": {
      "text/html": [
       "<table border=\"1\" class=\"dataframe\">\n",
       "    <thead>\n",
       "        <tr>\n",
       "            <th>Name</th> <th>Cold</th> <th>Hot</th>\n",
       "        </tr>\n",
       "    </thead>\n",
       "    <tbody>\n",
       "        <tr>\n",
       "            <td>American Home Food Products</td> <td>0   </td> <td>4   </td>\n",
       "        </tr>\n",
       "        <tr>\n",
       "            <td>General Mills              </td> <td>51  </td> <td>0   </td>\n",
       "        </tr>\n",
       "        <tr>\n",
       "            <td>Kellogs                    </td> <td>61  </td> <td>0   </td>\n",
       "        </tr>\n",
       "        <tr>\n",
       "            <td>Nabisco                    </td> <td>14  </td> <td>3   </td>\n",
       "        </tr>\n",
       "        <tr>\n",
       "            <td>Post                       </td> <td>22  </td> <td>0   </td>\n",
       "        </tr>\n",
       "        <tr>\n",
       "            <td>Quaker Oats                </td> <td>16  </td> <td>5   </td>\n",
       "        </tr>\n",
       "        <tr>\n",
       "            <td>Ralston Purina             </td> <td>20  </td> <td>0   </td>\n",
       "        </tr>\n",
       "    </tbody>\n",
       "</table>"
      ],
      "text/plain": [
       "Name                        | Cold | Hot\n",
       "American Home Food Products | 0    | 4\n",
       "General Mills               | 51   | 0\n",
       "Kellogs                     | 61   | 0\n",
       "Nabisco                     | 14   | 3\n",
       "Post                        | 22   | 0\n",
       "Quaker Oats                 | 16   | 5\n",
       "Ralston Purina              | 20   | 0"
      ]
     },
     "execution_count": 31,
     "metadata": {},
     "output_type": "execute_result"
    }
   ],
   "source": [
    "cereal.pivot(\"Cereal Type Name\", \"Name\", values=\"protein\", collect=sum)"
   ]
  },
  {
   "attachments": {},
   "cell_type": "markdown",
   "id": "fe57f670",
   "metadata": {},
   "source": [
    "### When to Group:\n",
    "* aggregates of one categorical variable\n",
    "* aggregates of many variables\n",
    "* Multiple outputs (aggregate columns) \n",
    "\n",
    "### When to Pivot:\n",
    "* Aggregates of exactly two variables\n",
    "* Few unique values for column variable\n",
    "* Interested in every combination of values\n"
   ]
  }
 ],
 "metadata": {
  "kernelspec": {
   "display_name": "IPython - base",
   "language": "python",
   "name": "base"
  },
  "language_info": {
   "codemirror_mode": {
    "name": "ipython",
    "version": 3
   },
   "file_extension": ".py",
   "mimetype": "text/x-python",
   "name": "python",
   "nbconvert_exporter": "python",
   "pygments_lexer": "ipython3",
   "version": "3.10.8"
  },
  "vscode": {
   "interpreter": {
    "hash": "8728410c3bce4b394dee6feb19f07d98a83c71158217e159463bb2ea464be5ae"
   }
  }
 },
 "nbformat": 4,
 "nbformat_minor": 5
}
