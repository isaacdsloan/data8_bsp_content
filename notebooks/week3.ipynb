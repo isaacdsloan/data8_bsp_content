{
 "cells": [
  {
   "cell_type": "markdown",
   "id": "9c0dfe2d-505c-46b1-a5b7-9a33d009afbf",
   "metadata": {},
   "source": [
    "# Plots"
   ]
  },
  {
   "cell_type": "code",
   "execution_count": 2,
   "id": "424f718c-d93e-42d9-aa14-a42a37863d31",
   "metadata": {},
   "outputs": [],
   "source": [
    "from datetime import datetime\n",
    "from datascience import *\n",
    "import pandas as pd\n",
    "import matplotlib.pyplot as plt\n",
    "%matplotlib inline"
   ]
  },
  {
   "cell_type": "markdown",
   "id": "37c3b613-70cf-42b5-bb95-889df38f330d",
   "metadata": {},
   "source": [
    "### From Last Time"
   ]
  },
  {
   "cell_type": "code",
   "execution_count": null,
   "id": "b8da0727-28c5-4b0c-9273-8905a5fa911c",
   "metadata": {},
   "outputs": [],
   "source": []
  }
 ],
 "metadata": {
  "kernelspec": {
   "display_name": "Python 3 (ipykernel)",
   "language": "python",
   "name": "python3"
  },
  "language_info": {
   "codemirror_mode": {
    "name": "ipython",
    "version": 3
   },
   "file_extension": ".py",
   "mimetype": "text/x-python",
   "name": "python",
   "nbconvert_exporter": "python",
   "pygments_lexer": "ipython3",
   "version": "3.9.12"
  }
 },
 "nbformat": 4,
 "nbformat_minor": 5
}
