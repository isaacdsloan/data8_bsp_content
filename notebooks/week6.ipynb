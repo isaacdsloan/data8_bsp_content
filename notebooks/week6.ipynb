{
 "cells": [
  {
   "attachments": {},
   "cell_type": "markdown",
   "id": "ab81841a-fc35-4e62-8234-4244699f4d51",
   "metadata": {},
   "source": [
    "# Probablility, Distributions, Testing"
   ]
  },
  {
   "cell_type": "code",
   "execution_count": 3,
   "id": "5d8db596-e157-4d73-b337-025b84c2f5b4",
   "metadata": {},
   "outputs": [],
   "source": [
    "from datascience import *\n",
    "import pandas as pd\n",
    "import matplotlib.pyplot as plt\n",
    "import numpy as np\n",
    "%matplotlib inline"
   ]
  },
  {
   "attachments": {},
   "cell_type": "markdown",
   "id": "cb137589",
   "metadata": {},
   "source": [
    "### Probablilty \n",
    "\n",
    "This section of Data 8 centers on using the Python tools you have learned to run simulations for experiments that can give you incredibly important results. To understand experiments it is important to first start off with the basics of probability. \n",
    "\n",
    "In the finite probability setting we have the outcome space denoted as the set $\\Omega$ along with all the outcomes $\\omega$ that are contained within $\\Omega$. If we look at the example of rolling a single die, $\\Omega = \\{1,2,3,4,5,6\\}$ where each number represents a possible outcome. To get the probability of a specific event to occur, say rolling a 5, we divide the number of ways that the event can occur (in this case you can only roll a 5 in one way) divided by the total number of possible outcomes (in this case there are a total of 6 possible outcome). This gives us the probability of rolling a 5 as $1/6$.\n",
    "\n",
    "Let an event be a subset of $\\Omega$. Say given a fair coin I want to know what the chance of getting at least one tail when flipping 2 coins. This is asking for the probability of a specific event, not just one outcome. Events can have multiple outcomes within them just as in this case. Let's make the total outcome space $\\Omega = \\{TT,HH,TH,HT\\}$. Now the event getting at least one tail consists of the set $\\{TH, HT, TT\\}$. So from following the previous part, to get the probability of at least one tail we take the number of outcomes in the event we are interested in (in this case there are 3 outcomes that satisfy the event) and divide by the total number of outcome (in this case 4). For this question we get the answer as $3/4$\n",
    "\n",
    "### Distributions\n",
    "\n",
    "A probability distribution is a function that tells us about the probabilities of each possible outcome and it must sum to 1. For example, give a fair die, the distribution of rolling one die is given by $\\{1: 1/6, 2 : 1/6, 3 : 1/6, 4: 1/6, 5: 1/6, 6: 1/6\\}$ where $1:1/6$ says that rolling a 1 has a 1/6 chance of happening. If we sum all the possible outcomes we get 1 making this a valid distribution. \n",
    "\n",
    "#### Addition Rule\n",
    "\n",
    "For events that are mutually exclusive, or in other words at most one of them can happen, the probability of each of the mutually exlusive events occuring it the sum of each probability. Given event $A$ and $B$, mutually exclusive, the probability of $A$ or $B$ is $P(A) + P(B)$. \n",
    "\n",
    "#### Compliment Rule\n",
    "\n",
    "If the chance that an event happens is 20%, then the chance that it does not happen is 80%. That is the intuition behind the compliment rule. Let $A^c$ be the compliment of A, or the opposite of the event A, then $P(A) = 1 - P(A^c)$. When you see in a statement, \"at least one ...\" think about using the compliment rule.\n",
    "\n",
    "#### Multiplication Rule\n",
    "\n",
    "Let A and B be different events, the probability of A and B occuring is given by:\n",
    "\n",
    "$P(AB) = P(A) * P(A|B) = P(B) * P(B|A)$ where $P(AB)$ is notation for probability of A and B occuring, and $P(B|A)$ is notation for the probability of B occuring given A occured. \n",
    "\n",
    "A standard deck consists of 52 cards of which 4 are aces. Two cards are dealt at random without replacement. What is the chance that the second card is an ace, given that the first card is an ace? If the first card is an ace, that means there are only 3 aces left and 51 total cards left. This means the answer is 3/51. Given information, the probability changes. "
   ]
  },
  {
   "attachments": {},
   "cell_type": "markdown",
   "id": "12a080bb",
   "metadata": {},
   "source": [
    "##### Test"
   ]
  },
  {
   "attachments": {},
   "cell_type": "markdown",
   "id": "c48c3c12",
   "metadata": {},
   "source": [
    "Say we toss 100 fair dices, what is the compliment of the event that we see at least one 6? Calculate the probability"
   ]
  },
  {
   "cell_type": "markdown",
   "id": "3398ed22",
   "metadata": {},
   "source": []
  },
  {
   "attachments": {},
   "cell_type": "markdown",
   "id": "32e2a932",
   "metadata": {},
   "source": [
    "A die is rolled three times. What is the probability that at least one of the faces that appears has more than one spot?"
   ]
  },
  {
   "cell_type": "markdown",
   "id": "183d0389",
   "metadata": {},
   "source": []
  },
  {
   "attachments": {},
   "cell_type": "markdown",
   "id": "8eb2ceb2",
   "metadata": {},
   "source": [
    "Given a standard deck of 52 cards of which 4 are aces. Two cards are dealt at random *without* replacement. What is the chance that both cards are aces?"
   ]
  },
  {
   "cell_type": "markdown",
   "id": "518c7fc1",
   "metadata": {},
   "source": []
  },
  {
   "attachments": {},
   "cell_type": "markdown",
   "id": "1cd6ba74-d515-4019-a685-28bdc1b70d6a",
   "metadata": {},
   "source": [
    "### Simulation\n",
    "\n",
    "#### **Step 1: What to Simulate**\n",
    "\n",
    "Decide which quantity you want to simulate. For example, you might decide that you want to simulate the outcomes of tosses of a coin. Each simulated value will be a Head or a Tail.\n",
    "\n",
    "#### **Step 2: Simulating One Value**\n",
    "\n",
    "Figure out how to simulate one value of the quantity you specified in Step 1. In our example, you have to figure out how to simulate the outcome of one toss of a coin. If your quantity is more complicated, you might need several lines of code to come up with one simulated value. Typically, we will define a function that returns the simulated value.\n",
    "\n",
    "##### **Step 3: Number of Repetitions**\n",
    "\n",
    "Decide how many times you want to simulate the quantity. You will have to repeat the simulation in Step 2 that many times. In one of our earlier examples we had decided to simulate the outcomes of 1000 tosses of a coin, and so we needed 1000 repetitions of generating the outcome of a single toss.\n",
    "\n",
    "##### **Step 4: Simulating Multiple Values**\n",
    "\n",
    "Finally, put it all together as follows.\n",
    "\n",
    "Create an empty array in which to collect all the simulated values. We will call this the collection array.\n",
    "\n",
    "Create a “repetitions sequence,” that is, a sequence whose length is the number of repetitions you specified in Step 3. For n repetitions we will almost always use the sequence np.arange(n).\n",
    "\n",
    "Create a for loop. For each element of the repetitions sequence:\n",
    "\n",
    "Simulate one value by using the function you wrote in Step 2.\n",
    "\n",
    "Augment the collection array with this simulated value.\n",
    "\n",
    "***(From Data 8 Textbook, Section 9.3)***\n"
   ]
  },
  {
   "attachments": {},
   "cell_type": "markdown",
   "id": "5296d491",
   "metadata": {},
   "source": [
    "**Let's say that the chance of me eating a top 5 cereal follows the following probability distribution, 1/10 chance for Wheaties, 1/5 chance for Apple Jacks, 2/5 chance for Lucky Charms, 1/10 chance for Honey Nut Cheerios, and 1/5 chance for Fruity Pebbles. In 1000 simulations, simulate the number of times out of 100 days that I eat Lucky Charms**\n"
   ]
  },
  {
   "cell_type": "code",
   "execution_count": 5,
   "id": "2f083619",
   "metadata": {},
   "outputs": [],
   "source": [
    "top_5 = make_array(\"Wheaties\", \"Apple Jacks\", \"Lucky Charms\", \"Honey Nut Cheerios\", \"Fruity Pebbles\")\n",
    "\n",
    "count_lucky_charms = make_array()\n",
    "for i in np.arange(1000):\n",
    "    num_lucky_charms = sum(np.random.choice(top_5, 100) == \"Lucky Charms\")\n",
    "    count_lucky_charms = np.append(count_lucky_charms, num_lucky_charms)"
   ]
  },
  {
   "cell_type": "code",
   "execution_count": 7,
   "id": "57239648",
   "metadata": {},
   "outputs": [
    {
     "data": {
      "image/png": "[encoded data removed]",
      "text/plain": [
       "<Figure size 600x400 with 1 Axes>"
      ]
     },
     "metadata": {},
     "output_type": "display_data"
    }
   ],
   "source": [
    "lucky_charm_table = Table().with_column(\"number of lucky charms\", count_lucky_charms)\n",
    "lucky_charm_table.hist(\"number of lucky charms\")"
   ]
  },
  {
   "attachments": {},
   "cell_type": "markdown",
   "id": "ed1abae5",
   "metadata": {},
   "source": [
    "**Let's say that what we actually observe is that in 100 days, I eat Lucky Charms 40 of those days. Based on the simulated statistics, calculated the p-value**"
   ]
  },
  {
   "cell_type": "code",
   "execution_count": null,
   "id": "2df92b6c",
   "metadata": {},
   "outputs": [],
   "source": []
  },
  {
   "cell_type": "markdown",
   "id": "7b762e25",
   "metadata": {},
   "source": []
  }
 ],
 "metadata": {
  "kernelspec": {
   "display_name": "base",
   "language": "python",
   "name": "python3"
  },
  "language_info": {
   "codemirror_mode": {
    "name": "ipython",
    "version": 3
   },
   "file_extension": ".py",
   "mimetype": "text/x-python",
   "name": "python",
   "nbconvert_exporter": "python",
   "pygments_lexer": "ipython3",
   "version": "3.10.9"
  },
  "vscode": {
   "interpreter": {
    "hash": "8728410c3bce4b394dee6feb19f07d98a83c71158217e159463bb2ea464be5ae"
   }
  }
 },
 "nbformat": 4,
 "nbformat_minor": 5
}
